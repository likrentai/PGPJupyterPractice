{
  "cells": [
    {
      "attachments": {},
      "cell_type": "markdown",
      "metadata": {},
      "source": [
        "# MODULE 3.1.3\n",
        "## Conditionals \n",
        "- **`if`, `else`, `pass`**\n",
        "  - Conditionals using Boolean String Methods\n",
        "  - Comparison operators\n",
        "  - **String comparisons**\n",
        "\n",
        "----- \n",
        "\n",
        "><font size=\"5\" color=\"#00A0B2\"  face=\"verdana\"> <B>Student will be able to</B></font>  \n",
        "- **control code flow with `if`... `else` conditional logic**  \n",
        "  - using Boolean string methods (`.isupper(), .isalpha(), startswith()...`)  \n",
        "  - using comparison (`>, <, >=, <=, ==, !=`)  \n",
        "  - **using Strings in comparisons**  "
      ]
    },
    {
      "cell_type": "markdown",
      "metadata": {},
      "source": [
        "# &nbsp;\n",
        "<font size=\"6\" color=\"#00A0B2\"  face=\"verdana\"> <B>Concept</B></font>\n",
        "## String Comparisons\n",
        "- ### Strings can be equal `==` or unequal `!=`\n",
        "- ### Strings can be greater than `>` or less than `<` \n",
        "- ### alphabetically `\"A\"` is less than `\"B\"`\n",
        "- ### lower case `\"a\"` is greater than upper case `\"A\"`"
      ]
    },
    {
      "cell_type": "markdown",
      "metadata": {},
      "source": [
        "# &nbsp;\n",
        "<font size=\"6\" color=\"#00A0B2\"  face=\"verdana\"> <B>Examples</B></font>"
      ]
    },
    {
      "cell_type": "code",
      "execution_count": null,
      "metadata": {
        "trusted": false
      },
      "outputs": [],
      "source": [
        "# review and run code\n",
        "\"hello\" < \"Hello\""
      ]
    },
    {
      "cell_type": "code",
      "execution_count": null,
      "metadata": {
        "trusted": false
      },
      "outputs": [],
      "source": [
        "# review and run code\n",
        "\"Australia\" > \"Zimbabwe\""
      ]
    },
    {
      "cell_type": "code",
      "execution_count": null,
      "metadata": {
        "trusted": false
      },
      "outputs": [],
      "source": [
        "# review and run code\n",
        "'student' != 'Student'"
      ]
    },
    {
      "cell_type": "code",
      "execution_count": null,
      "metadata": {
        "trusted": false
      },
      "outputs": [],
      "source": [
        "# review and run code\n",
        "print(\"'student' >= 'Student' is\", 'student' >= 'Student')\n",
        "print(\"'student' != 'Student' is\", 'student' != 'Student')"
      ]
    },
    {
      "cell_type": "code",
      "execution_count": null,
      "metadata": {
        "trusted": false
      },
      "outputs": [],
      "source": [
        "# review and run code\n",
        "\"I want \" + \"meatballs!\" == \"I want meatballs!\""
      ]
    },
    {
      "cell_type": "markdown",
      "metadata": {},
      "source": [
        "# &nbsp;\n",
        "<font size=\"6\" color=\"#B24C00\"  face=\"verdana\"> <B>Task 1</B></font>\n",
        "## String Comparisons"
      ]
    },
    {
      "cell_type": "code",
      "execution_count": null,
      "metadata": {
        "trusted": false
      },
      "outputs": [],
      "source": [
        "msg = \"Hello\"\n",
        "# [ ] print the True/False results of testing if msg string equals \"Hello\" string\n",
        "\n"
      ]
    },
    {
      "cell_type": "code",
      "execution_count": null,
      "metadata": {
        "trusted": false
      },
      "outputs": [],
      "source": [
        "greeting = \"Hello\"\n",
        "# [ ] get input for variable named msg, and ask user to 'Say \"Hello\"'\n",
        "# [ ] print the results of testing if msg string equals greeting string\n",
        "\n",
        "\n"
      ]
    },
    {
      "attachments": {},
      "cell_type": "markdown",
      "metadata": {},
      "source": [
        "# &nbsp;\n",
        "<font size=\"6\" color=\"#00A0B2\"  face=\"verdana\"> <B>Concept</B></font>\n",
        "## Conditionals: String comparisons with `if`\n"
      ]
    },
    {
      "cell_type": "markdown",
      "metadata": {},
      "source": [
        "# &nbsp;\n",
        "<font size=\"6\" color=\"#00A0B2\"  face=\"verdana\"> <B>Examples</B></font>"
      ]
    },
    {
      "cell_type": "code",
      "execution_count": 1,
      "metadata": {
        "trusted": false
      },
      "outputs": [
        {
          "name": "stdout",
          "output_type": "stream",
          "text": [
            "message as expected\n"
          ]
        }
      ],
      "source": [
        "# [ ] review and run code\n",
        "msg = \"Save file\"\n",
        "if msg.lower() == \"save file\":\n",
        "    print(\"message as expected\")\n",
        "else:\n",
        "    print(\"message not as expected\")"
      ]
    },
    {
      "cell_type": "code",
      "execution_count": 2,
      "metadata": {
        "collapsed": true,
        "trusted": false
      },
      "outputs": [
        {
          "name": "stdout",
          "output_type": "stream",
          "text": [
            "message as expected\n"
          ]
        }
      ],
      "source": [
        "# [ ] review and run code\n",
        "msg = \"Save file\"\n",
        "prediction = \"save file\"\n",
        "if msg.lower() == prediction.lower():\n",
        "    print(\"message as expected\")\n",
        "else:\n",
        "    print(\"message not as expected\")"
      ]
    },
    {
      "cell_type": "markdown",
      "metadata": {},
      "source": [
        "# &nbsp;\n",
        "<font size=\"6\" color=\"#B24C00\"  face=\"verdana\"> <B>Task 2</B></font>\n",
        "## Conditionals: comparison operators with if\n"
      ]
    },
    {
      "cell_type": "code",
      "execution_count": null,
      "metadata": {
        "trusted": false
      },
      "outputs": [],
      "source": [
        "# [ ] get input for a variable, ans, and ask user 'What is 8 + 13? : '\n",
        "# [ ] print messages for correct answer \"21\" or incorrect answer using if/else\n",
        "# note: input returns a \"string\"\n",
        "\n"
      ]
    },
    {
      "attachments": {},
      "cell_type": "markdown",
      "metadata": {
        "collapsed": true
      },
      "source": [
        "# &nbsp;  \n",
        "<font size=\"6\" color=\"#B24C00\"  face=\"verdana\"> <B>Task 3</B></font>  \n",
        "## Program: True False Quiz Function\n",
        "Call the quiz function with 2 arguments\n",
        "- T/F question string \n",
        "- answer key string like \"T\"  \n",
        "\n",
        "Return a string: \"correct\" or incorrect\"\n",
        "### Define and use `quiz()` function  \n",
        "- **`quiz()`** has **2 parameters** which are both string arguments  \n",
        "  - **`question`**: a string containg a T/F question like \"Should save your notebook after edit?(T/F): \"  \n",
        "  - **`answer`**: a string indicating the *correct answer*, either **\"T\"** or **\"F\"** \n",
        "- **`quiz()`** returns a string:  \"correct\" or \"incorrect\"\n",
        "- Test quiz(): **create a T/F question** (*or several!*) to **call quiz()**  \n"
      ]
    },
    {
      "cell_type": "code",
      "execution_count": null,
      "metadata": {
        "trusted": false
      },
      "outputs": [],
      "source": [
        "# [ ] Create the program, run tests\n",
        "\n"
      ]
    }
  ],
  "metadata": {
    "anaconda-cloud": {},
    "kernelspec": {
      "display_name": "Python 3",
      "language": "python",
      "name": "python3"
    },
    "language_info": {
      "codemirror_mode": {
        "name": "ipython",
        "version": 3
      },
      "file_extension": ".py",
      "mimetype": "text/x-python",
      "name": "python",
      "nbconvert_exporter": "python",
      "pygments_lexer": "ipython3",
      "version": "3.11.2"
    }
  },
  "nbformat": 4,
  "nbformat_minor": 1
}
