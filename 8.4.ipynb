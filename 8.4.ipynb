{
 "cells": [
  {
   "attachments": {},
   "cell_type": "markdown",
   "metadata": {},
   "source": [
    "# MODULE 8.4\n",
    "## Working with Files\n",
    "4.1 File import in Jupyter Notebooks  \n",
    "4.1 File **`open()`** and **`.read()`**  \n",
    "4.2 File Read as a list with **`.readlines()`**  \n",
    "4.2 File Closing to free resources with **`.close()`**  \n",
    "4.3 File Read a line at a time with **`.readline()`**  \n",
    "4.3 Remove characters using **`.strip()`**   \n",
    "4.4 **`.write()` data to a new local file**  \n",
    "4.4 **File `.write()`**  with **`.seek()`**  \n",
    "4.4 **File append**   \n",
    "\n",
    "----- \n",
    "><font size=\"5\" color=\"#00A0B2\"  face=\"verdana\"> <B>Student will be able to</B></font>  \n",
    "4.1 Import files in Jupyter Notebooks  \n",
    "4.1 Open and **`.read()`** local files in memory   \n",
    "4.1 **`.read()`** a specific number of characters  \n",
    "4.2 Use **`.readlines()`** to read data from file as a **list** of lines  \n",
    "4.2 Use **`.readlines()`** to read data from file as a **list** of lines   \n",
    "4.3 Use **`.readline()`** to read data from file a line at a time   \n",
    "4.3 Use **`.strip()`** to remove new line characters  \n",
    "4.4 **`.write()` data to a new local file**  \n",
    "4.4 **Use `.seek()` to set file read or write location**  \n",
    "4.4 **Use file append mode**  "
   ]
  },
  {
   "attachments": {},
   "cell_type": "markdown",
   "metadata": {},
   "source": [
    "# &nbsp;\n",
    "<font size=\"6\" color=\"#00A0B2\"  face=\"verdana\"> <B>Concepts</B></font>\n",
    "\n",
    "## writing to a file opened in write mode `'w' or 'w+'`\n",
    "```python\n",
    "a = open('testme.txt', 'w') \n",
    "a.write(\"Kebab time!\\n\")\n",
    "```  \n",
    "### write mode:  `'w' `  \n",
    "### write mode plus read: `'w+'`  \n",
    "#### **`'w'`** and **`'w+'`** modes will create a new file or overwrite existing files  \n",
    "**All previous data will be lost**"
   ]
  },
  {
   "cell_type": "markdown",
   "metadata": {},
   "source": [
    "# &nbsp;\n",
    "<font size=\"6\" color=\"#00A0B2\"  face=\"verdana\"> <B>Examples</B></font>"
   ]
  },
  {
   "cell_type": "code",
   "execution_count": null,
   "metadata": {},
   "outputs": [],
   "source": [
    "# [ ] review and run example\n",
    "# - creates a new local file or overwrites the local file (makes it blank)\n",
    "new = open('newfile.txt', 'w')"
   ]
  },
  {
   "cell_type": "code",
   "execution_count": null,
   "metadata": {},
   "outputs": [],
   "source": [
    "# [ ] review and run example to write some text to the file\n",
    "new.write(\"Line #1\\nLine #2'\\nLine #3\\n\")"
   ]
  },
  {
   "cell_type": "code",
   "execution_count": null,
   "metadata": {
    "collapsed": true
   },
   "outputs": [],
   "source": [
    "# [ ] review and run example\n",
    "# - close file and re-open in read mode \n",
    "# - head pointer is at start of file\n",
    "new.close()\n",
    "new = open('newfile.txt', 'r')"
   ]
  },
  {
   "cell_type": "code",
   "execution_count": null,
   "metadata": {
    "scrolled": true
   },
   "outputs": [],
   "source": [
    "# [ ] review and run example to see what was written to the file\n",
    "newtext = new.read()\n",
    "print(newtext)\n",
    "new.close()"
   ]
  },
  {
   "cell_type": "markdown",
   "metadata": {},
   "source": [
    "#### `'w+'` means the file is in write plus read mode  \n",
    "- after any write, the pointer is at the end of text that has been written \n",
    "- to read the entire file, the pointer needs to be at the beginning of the file - see **.seek()** below to set the file pointer"
   ]
  },
  {
   "attachments": {},
   "cell_type": "markdown",
   "metadata": {
    "collapsed": true
   },
   "source": [
    "# &nbsp;\n",
    "<font size=\"6\" color=\"#B24C00\"  face=\"verdana\"> <B>Task 1</B></font>\n",
    "\n",
    "## create a local file  \n",
    "### open in 'w' mode  \n",
    "- open innerplanets.txt in write mode **'w'** to create a local file\n",
    "- write the first four planets from the sun in earth's solar system (Mercury, Venus, Earth, Mars) on separate lines\n",
    "- close the file and re-open in read mode **'r'** \n",
    "- use .read() to read the entire file contents\n",
    "- print the entire file contents"
   ]
  },
  {
   "cell_type": "code",
   "execution_count": null,
   "metadata": {},
   "outputs": [],
   "source": [
    "# [ ] open innerplanets.txt in write mode\n"
   ]
  },
  {
   "cell_type": "code",
   "execution_count": null,
   "metadata": {},
   "outputs": [],
   "source": [
    "# [ ] write Mercury, Venus, Earth, Mars on separate lines\n"
   ]
  },
  {
   "cell_type": "code",
   "execution_count": null,
   "metadata": {},
   "outputs": [],
   "source": [
    "# [ ] close the file and re-open in read mode\n"
   ]
  },
  {
   "cell_type": "code",
   "execution_count": null,
   "metadata": {
    "collapsed": true
   },
   "outputs": [],
   "source": [
    "# [ ] use .read() to read the entire file contents\n"
   ]
  },
  {
   "cell_type": "code",
   "execution_count": null,
   "metadata": {},
   "outputs": [],
   "source": [
    "# [ ] print the entire file contents and close the file\n"
   ]
  },
  {
   "attachments": {},
   "cell_type": "markdown",
   "metadata": {},
   "source": [
    "# &nbsp;\n",
    "<font size=\"6\" color=\"#00A0B2\"  face=\"verdana\"> <B>Concepts</B></font>\n",
    "\n",
    "## using .seek(0) \n",
    "### setting the pointer to beginning of file\n",
    "```python\n",
    "new.seek(0)\n",
    "newcon = new.read()\n",
    "print(newcon)\n",
    "```\n",
    "\n",
    "### using .seek() to set the read/write pointer to beginning of file  \n",
    "**`new.seek(0)`** moves the file read\\write pointer to the start of the file "
   ]
  },
  {
   "cell_type": "markdown",
   "metadata": {},
   "source": [
    "### &nbsp;\n",
    "<font size=\"6\" color=\"#00A0B2\"  face=\"verdana\"> <B>Examples</B></font>\n",
    "### seek() with `'w+'`"
   ]
  },
  {
   "cell_type": "code",
   "execution_count": null,
   "metadata": {},
   "outputs": [],
   "source": [
    "# [ ] review and run example\n",
    "# creates a new local file or overwrites the local file (makes it blank)\n",
    "new = open('newfile.txt', 'w+')"
   ]
  },
  {
   "cell_type": "markdown",
   "metadata": {},
   "source": [
    "write plus read **`'w+'`**  \n",
    "**`'w+'`** overwrites existing files of the same name - **rendering the file blank**  \n",
    "the file is writeable and readable"
   ]
  },
  {
   "cell_type": "code",
   "execution_count": null,
   "metadata": {},
   "outputs": [],
   "source": [
    "# [ ] review and run example to see what was written to the file \n",
    "# - 'w+' overwrites, we can read, but the file is ***BLANK***\n",
    "newtext = new.read()\n",
    "print(newtext)"
   ]
  },
  {
   "cell_type": "code",
   "execution_count": null,
   "metadata": {},
   "outputs": [],
   "source": [
    "# [ ] review and run - write to the blank file\n",
    "new.write(\"Line #1\\nLine #2'\\nLine #3\\n\")"
   ]
  },
  {
   "cell_type": "code",
   "execution_count": null,
   "metadata": {},
   "outputs": [],
   "source": [
    "# [ ] review and run example - read and print (Note: the pointer is at the end of the file - result = empty string)\n",
    "newtext = new.read()\n",
    "print(newtext)"
   ]
  },
  {
   "cell_type": "markdown",
   "metadata": {},
   "source": [
    "## Expected: prints empty string above  \n",
    "pointer was at end of file where there is nothing to read"
   ]
  },
  {
   "cell_type": "markdown",
   "metadata": {},
   "source": [
    "### seek(0)  \n",
    "sets the pointer to the beginning of the file, enabling read() to input the entire file contents"
   ]
  },
  {
   "cell_type": "code",
   "execution_count": null,
   "metadata": {},
   "outputs": [],
   "source": [
    "# [ ] review and run example - sets pointer to beginning of file\n",
    "new.seek(0)"
   ]
  },
  {
   "cell_type": "code",
   "execution_count": null,
   "metadata": {},
   "outputs": [],
   "source": [
    "# [ ] review and run example - now read starts from beginning of file\n",
    "newtext = new.read()\n",
    "print(newtext)"
   ]
  },
  {
   "cell_type": "code",
   "execution_count": null,
   "metadata": {
    "collapsed": true
   },
   "outputs": [],
   "source": [
    "# # [ ] review and run example - clean up and close file\n",
    "new.close()"
   ]
  },
  {
   "attachments": {},
   "cell_type": "markdown",
   "metadata": {
    "collapsed": true
   },
   "source": [
    "# &nbsp;\n",
    "<font size=\"6\" color=\"#B24C00\"  face=\"verdana\"> <B>Task 2</B></font>\n",
    "\n",
    "## using `.seek(0)` on a local file in write plus read mode `'w+'`\n",
    "### open outerplanets.txt in 'w+' mode (write plus read) \n",
    "- open **outerplanets.txt** in write plus read mode **'w+'** \n",
    "- write four outer planets in earth's solar system (Jupiter, Saturn, Uranus, Neptune) on separate lines  \n",
    "- use .seek() to move the pointer to the start of the file\n",
    "- use .read() to read the entire file contents\n",
    "- print the entire file contents and close the file"
   ]
  },
  {
   "cell_type": "code",
   "execution_count": null,
   "metadata": {},
   "outputs": [],
   "source": [
    "# [ ] open outerplanets.txt in write mode 'w+'\n"
   ]
  },
  {
   "cell_type": "code",
   "execution_count": null,
   "metadata": {},
   "outputs": [],
   "source": [
    "# [ ] write four outer planets in earth's solar system (Jupiter, Saturn, Uranus, Neptune) on separate lines\n"
   ]
  },
  {
   "cell_type": "code",
   "execution_count": null,
   "metadata": {},
   "outputs": [],
   "source": [
    "# [ ] use .seek() to move the pointer to the start of the file\n",
    "# [ ] use .read() to read the entire file contents\n"
   ]
  },
  {
   "cell_type": "code",
   "execution_count": null,
   "metadata": {},
   "outputs": [],
   "source": [
    "# [ ] print the entire file contents and close the file\n"
   ]
  },
  {
   "attachments": {},
   "cell_type": "markdown",
   "metadata": {},
   "source": [
    "# &nbsp;\n",
    "<font size=\"6\" color=\"#00A0B2\"  face=\"verdana\"> <B>Concepts</B></font>\n",
    "\n",
    "## using .seek() *offset* and *whence* \n",
    "### setting the pointer in a file with positive *offset* values and *whence* location \n",
    "```python\n",
    "new.seek(13)\n",
    "newcon = new.read()\n",
    "print(newcon)\n",
    "```  \n",
    "```python\n",
    "new.seek(0,2)\n",
    "```  \n",
    "### using .seek() to set the read/write pointer in a file   \n",
    "#### *offset* values and *whence* arguments\n",
    ".seek() can set the pointer to a desired index from the beginning of the file  \n",
    "the example below moves to the character to offset 10 (the 11th character)  \n",
    "```python\n",
    "new.seek(10)\n",
    "```  \n",
    "\n",
    "which is also written with an optional second argument, know as *whence* (\"from where\")  \n",
    "```python\n",
    "new.seek(10,0)\n",
    "```  \n",
    "using 0 for *whence* starts the *offset* from the beginning of the file\n",
    "\n",
    ">**Note:** the offset must be a positive integer in Python 3, so we cannot offset backwards from the end of the file  \n",
    "\n",
    "## `file.seek(offset, whence)`\n",
    "| whence mode | description               |  \n",
    "|:-----------:|---------------------------|\n",
    "| 0 | points to the beginning of the file |   \n",
    "| 1 | points to the current location |  \n",
    "| 2 | points to the end of the file & offset is always 0|  \n",
    "\n",
    "using ** *whence* ** the index can be offset from either the beginning, current location or to the end of the file (where there is no offset applied)  "
   ]
  },
  {
   "cell_type": "markdown",
   "metadata": {},
   "source": [
    "# &nbsp;\n",
    "<font size=\"6\" color=\"#00A0B2\"  face=\"verdana\"> <B>Examples</B></font>  \n",
    "### seek to a specific location"
   ]
  },
  {
   "cell_type": "code",
   "execution_count": null,
   "metadata": {},
   "outputs": [],
   "source": [
    "# [ ] review and run - create, write, read and print a file\n",
    "tips = open('codingtips.txt', 'w+')\n",
    "tips.write('-use simple function and variable names\\n-comment code\\n-organise code into functions\\n')\n",
    "tips.seek(0)\n",
    "text = tips.read()\n",
    "print(text)"
   ]
  },
  {
   "cell_type": "code",
   "execution_count": null,
   "metadata": {},
   "outputs": [],
   "source": [
    "# [ ] review and run example - setting a specific seek() index \n",
    "tips.seek(13)\n",
    "# now read starts from 14th character of file\n",
    "text = tips.read()\n",
    "print(text)"
   ]
  },
  {
   "cell_type": "code",
   "execution_count": null,
   "metadata": {},
   "outputs": [],
   "source": [
    "# [ ] review and run example - string slicing on a read of an entire file\n",
    "# read from the start\n",
    "tips.seek(0)\n",
    "text = tips.read()\n",
    "# slice from the 14th character to end\n",
    "print(text[13:])"
   ]
  },
  {
   "cell_type": "markdown",
   "metadata": {},
   "source": [
    "# &nbsp;\n",
    "<font size=\"6\" color=\"#00A0B2\"  face=\"verdana\"> <B>Examples</B></font>  \n",
    "### seek() with optional *whence* argument "
   ]
  },
  {
   "cell_type": "code",
   "execution_count": null,
   "metadata": {},
   "outputs": [],
   "source": [
    "# [ ] review and run example - setting pointer to end of file with whence value = 2\n",
    "tips.seek(0,2)\n",
    "tips.write(\"-use seek(0,2) to set read/write at end of file\\n\")\n",
    "\n",
    "# read from beginning of file - .seek(0,0) is same as .seek(0)\n",
    "tips.seek(0,0)\n",
    "text = tips.read()\n",
    "print(text)"
   ]
  },
  {
   "cell_type": "code",
   "execution_count": null,
   "metadata": {},
   "outputs": [],
   "source": [
    "# [ ] review and run example - point to file beginning and overwrite 1st line\n",
    "tips.seek(0)\n",
    "tips.write('-use simple function and variable names\\n'.upper())"
   ]
  },
  {
   "cell_type": "code",
   "execution_count": null,
   "metadata": {},
   "outputs": [],
   "source": [
    "# [ ] review and run example - show new file contents\n",
    "tips.seek(0,0)\n",
    "text = tips.read()\n",
    "print(text)"
   ]
  },
  {
   "cell_type": "markdown",
   "metadata": {},
   "source": [
    "# &nbsp;\n",
    "<font size=\"6\" color=\"#B24C00\"  face=\"verdana\"> <B>Task 3</B></font>\n",
    "## seek() with optional whence argument\n",
    "- open a new file **days.txt** in write plus read mode **'w+'** \n",
    "- write week days (Monday - Friday) on separate lines  \n",
    "- use .seek() to move the pointer to the start of the file\n",
    "- use .read() to read the entire file contents\n",
    "- print the entire file contents and close the file\n",
    "- use .seek() to move the pointer to the end of the file and write the weekend days (Saturday & Sunday)\n",
    "- use .seek() to move the pointer to the start of the file\n",
    "- use .read() to read the entire file contents\n",
    "- print the entire file contents and close the file"
   ]
  },
  {
   "cell_type": "code",
   "execution_count": null,
   "metadata": {},
   "outputs": [],
   "source": [
    "# [ ] open a new file days.txt in write plus read mode 'w+' \n",
    "# [ ] write week days (Monday - Friday) on separate lines to the file\n"
   ]
  },
  {
   "cell_type": "code",
   "execution_count": null,
   "metadata": {},
   "outputs": [],
   "source": [
    "# [ ] use .seek() to move the pointer to the start of the file\n",
    "# [ ] use .read() to read the entire file contents\n",
    "# [ ] print the entire file contents and close the file\n"
   ]
  },
  {
   "cell_type": "code",
   "execution_count": null,
   "metadata": {},
   "outputs": [],
   "source": [
    "# [ ] use .seek() to move the pointer to the end of the file\n",
    "# [ ] write the weekend days (Saturday & Sunday)\n"
   ]
  },
  {
   "cell_type": "code",
   "execution_count": null,
   "metadata": {},
   "outputs": [],
   "source": [
    "# [ ] use .seek() to move the pointer to the start of the file\n",
    "# [ ] use .read() to read the entire file contents\n",
    "# [ ] print the entire file contents and close the file\n"
   ]
  },
  {
   "attachments": {},
   "cell_type": "markdown",
   "metadata": {},
   "source": [
    "# &nbsp;\n",
    "<font size=\"6\" color=\"#00A0B2\"  face=\"verdana\"> <B>Concepts</B></font>\n",
    "\n",
    "## open a file in a writeable mode\n",
    "### open a file in a writing mode, with: `'w', 'w+', 'r+', 'a', 'a+'` \n",
    "| MODE    |  Description  |  \n",
    "|:-------:|:--------------|  \n",
    "| 'r'  | read only mode |  \n",
    "| **'w'** | write - **overwrites** file with same name |  \n",
    "| **'w+'** | write and read mode - **overwrites** file with same name|  \n",
    "| **'r+'** | read and write mode (**no** overwrite) |  \n",
    "| **'a'**  | opens for appending to end of file (**no** overwrite) |  \n",
    "| **'a+'** | opens for appending to end of file (**no** overwrite) plus read |  \n",
    "\n",
    "**warning: `'w'`** and **`'w+'`** modes will create a new file or **overwrite** existing files (deleting all file contents)"
   ]
  },
  {
   "attachments": {},
   "cell_type": "markdown",
   "metadata": {
    "collapsed": true
   },
   "source": [
    "# &nbsp;\n",
    "<font size=\"6\" color=\"#00A0B2\"  face=\"verdana\"> <B>Concepts</B></font>\n",
    "\n",
    "## writing to a file opened in additional write modes:  `'r+', 'a', 'a+'` \n",
    "Writing is the same - pointers are different\n",
    "```python\n",
    "new = open('newfile.txt', 'r+') \n",
    "new.write(\"Show me the money!\\n\")\n",
    "```  \n",
    "```python\n",
    "new = open('newfile.txt', 'a+') \n",
    "new.write(\"This is so rubbish.\\n\")\n",
    "```\n",
    "### read mode plus write `'r+'` and append modes `'a', 'a+'`\n",
    "#### read plus mode `'r+'` differs from write modes `'w', 'w+'`  \n",
    "- read plus doesn't blank out the file contents with an overwrite  \n",
    " \n",
    "#### append modes `'a', 'a+'` differ from write modes `'w', 'w+'`   \n",
    "- append doesn't blank out the file contents with an overwrite  \n",
    "- append pointer is set to the end of the file for every write\n",
    "- append plus (a+) is append mode, **plus** read mode\n",
    "\n",
    "|   `'r+', 'a', 'a+'`                        |  \n",
    "|:------------------------------------------:|  \n",
    "|will **not overwrite** existing file content creating a blank file|   "
   ]
  },
  {
   "cell_type": "markdown",
   "metadata": {},
   "source": [
    "### &nbsp;\n",
    "<font size=\"6\" color=\"#00A0B2\"  face=\"verdana\"> <B>Examples</B></font>  \n",
    "#### append plus mode `a+`"
   ]
  },
  {
   "cell_type": "code",
   "execution_count": null,
   "metadata": {},
   "outputs": [],
   "source": [
    "# [ ] review and run example - function writes to the open log argument\n",
    "# loads funtion into memory but the funtion is not called\n",
    "def logger(log):\n",
    "    entry = input(\"Enter log item (enter to quit): \")\n",
    "    count = 0\n",
    "\n",
    "    while entry:\n",
    "        count += 1\n",
    "        log.write(str(count) + \": \" + entry + \"\\n\")\n",
    "        entry = input(\"Enter log item (enter to quit): \")\n",
    "    return count"
   ]
  },
  {
   "cell_type": "code",
   "execution_count": null,
   "metadata": {},
   "outputs": [],
   "source": [
    "# [ ] review and run example: makes a blank file  (initialise/reset)\n",
    "log = open('logfile.txt', 'w+')\n",
    "log.close()"
   ]
  },
  {
   "cell_type": "code",
   "execution_count": null,
   "metadata": {},
   "outputs": [],
   "source": [
    "# [ ] review and run example - opens the logfile before passing to logger() function call, below\n",
    "# allows for calls below to run several times appending to the end of logfile\n",
    "log = open('logfile.txt', 'a+')"
   ]
  },
  {
   "cell_type": "code",
   "execution_count": null,
   "metadata": {},
   "outputs": [],
   "source": [
    "# [ ] review and run example - calls the above logger() function\n",
    "# what happens running the cell above (a+) again before running this cell again? \n",
    "# what happens if log.seek(0) is run before an append?\n",
    "\n",
    "logger(log)\n",
    "log.seek(0)\n",
    "text = log.read()\n",
    "\n",
    "print()\n",
    "print(text)\n",
    "log.close()"
   ]
  },
  {
   "attachments": {},
   "cell_type": "markdown",
   "metadata": {},
   "source": [
    "#### read plus mode `r+`  \n",
    "create a file that has one line: \"Count is: x\"   \n",
    "overwrite with new count at the x location (x is an integer)"
   ]
  },
  {
   "cell_type": "code",
   "execution_count": null,
   "metadata": {},
   "outputs": [],
   "source": [
    "# [ ] review and run example - create a file with initial count of 0\n",
    "count = open(\"count.txt\", \"w+\")\n",
    "count.write(\"Count: 0\")\n",
    "count.seek(0)\n",
    "print(count.readline().strip())\n",
    "count.close()"
   ]
  },
  {
   "cell_type": "code",
   "execution_count": null,
   "metadata": {},
   "outputs": [],
   "source": [
    "# [ ] review and run example - can rerun this cell\n",
    "count = open(\"count.txt\", \"r+\")\n",
    "\n",
    "count.seek(0)\n",
    "line = count.readline().strip()\n",
    "print(\"BEFORE\\n\" + line)\n",
    "\n",
    "# get the int character(s) after the colon and space, cast and increment\n",
    "count = int(line[10:])+1\n",
    "\n",
    "# write the incremented value to the file - overwrite before value\n",
    "count.seek(10)\n",
    "count.write(str(count))\n",
    "\n",
    "count.seek(0)\n",
    "print(\"\\nAFTER\\n\" + count.readline().strip())\n",
    "\n",
    "count.close()"
   ]
  },
  {
   "cell_type": "code",
   "execution_count": null,
   "metadata": {
    "collapsed": true
   },
   "outputs": [],
   "source": [
    "# [ ]  review funtion code for icount() funtion that reads file and updates the count\n",
    "# the file always has 1 line that is The count is: N, where N is an integer\n",
    "def icount(cnt):\n",
    "    cnt.seek(0,0)\n",
    "    x = cnt.readline().strip()\n",
    "    cnt = int(x[10:])+1\n",
    "    cnt.seek(10,0)\n",
    "    cnt.write(str(cnt))\n",
    "    return cnt"
   ]
  },
  {
   "cell_type": "code",
   "execution_count": null,
   "metadata": {},
   "outputs": [],
   "source": [
    "# [ ] review and run example with call to function: icount() - **Run cell multiple times**\n",
    "# opens file/prints initial value\n",
    "count = open(\"count.txt\", \"r+\")\n",
    "\n",
    "count.seek(0)\n",
    "line = count.readline().strip()\n",
    "print(\"BEFORE\\n\" + line)\n",
    "\n",
    "# call icount() to increase the count 5 times\n",
    "for i in range(5):\n",
    "    count = icount(count)\n",
    "    count.seek(0)\n",
    "    print(\"\\nAFTER icount() call\", i+1, \"\\n\" + count.readline().strip())\n",
    "\n",
    "count.close()"
   ]
  },
  {
   "attachments": {},
   "cell_type": "markdown",
   "metadata": {
    "collapsed": true
   },
   "source": [
    "# &nbsp;\n",
    "<font size=\"6\" color=\"#B24C00\"  face=\"verdana\"> <B>Task 4</B></font>  \n",
    "\n",
    "## append\n",
    "- Open task4.txt in append plus mode (\"a+\")  \n",
    "- create a `for item in range(5):` loop, for each loop:  \n",
    "  - write to the file: \"append #\"+ str(item)+\"\\n\"  \n",
    "  - use seek() to set the pointer to the beginning of the file  \n",
    "- print the file contents using file .read() method after eiting the loop\n",
    "in append mode the file should only write to the end of the file regardless of setting seek() location"
   ]
  },
  {
   "cell_type": "code",
   "execution_count": null,
   "metadata": {},
   "outputs": [],
   "source": [
    "# [ ] complete the task\n",
    "# Provided Code creates and populates task4.txt\n",
    "t4 = open('task4.txt', 'w+')\n",
    "t4.write(\"Line1\\nLine2\\nLine3\\n\")\n",
    "t4.close()\n",
    "# [ ] code here\n",
    "\n",
    "\n",
    "\n"
   ]
  },
  {
   "attachments": {},
   "cell_type": "markdown",
   "metadata": {
    "collapsed": true
   },
   "source": [
    "# &nbsp;\n",
    "<font size=\"6\" color=\"#B24C00\"  face=\"verdana\"> <B>Task 5</B></font>  \n",
    "## read plus (`r+`) mode  \n",
    "read the provided code and complete the code as follows:  \n",
    "- Run the provided code below to create/open, print and close task5.txt \n",
    "- Open task5.txt in append plus mode (`\"r+\"`)  \n",
    "- create a &nbsp; **`for item in range(1,5):`** loop, then, during each loop:  \n",
    "  - write to the file: **`\"append#\" + str(item)+ \"\\n\"`**  \n",
    "  - use **`.seek(item*18)`** to set the pointer to 18x's the loop count  \n",
    "  Note: starting the first loop, `item` is 1 if using range(1,5), seek will be set to 18, 36, 54, 72  \n",
    "- print the file contents using file `.read()` method after exiting the loop  \n",
    "\n",
    "**\"r+\"** mode will write wherever the pointer is set - such as after a read or from using .seek()"
   ]
  },
  {
   "cell_type": "code",
   "execution_count": null,
   "metadata": {},
   "outputs": [],
   "source": [
    "# [ ] complete the task\n",
    "# Provided Code creates and populates task5.txt\n",
    "t5 = open('task5.txt', 'w+')\n",
    "t5.write(\"Line---1\\nLine---2\\nLine---3\\nLine---4\\nLine---5\\nLine---6\\nLine---7\\nLine---8\\nLine---9\\nLine--10\\n\")\n",
    "t5.seek(0)\n",
    "print(\"Before:\\n\"+ t5.read()+\"\\n\")\n",
    "t5.close()\n",
    "\n",
    "# [ ] code here\n",
    "\n",
    "\n",
    "\n"
   ]
  }
 ],
 "metadata": {
  "anaconda-cloud": {},
  "kernelspec": {
   "display_name": "Python 3",
   "language": "python",
   "name": "python3"
  },
  "language_info": {
   "codemirror_mode": {
    "name": "ipython",
    "version": 3
   },
   "file_extension": ".py",
   "mimetype": "text/x-python",
   "name": "python",
   "nbconvert_exporter": "python",
   "pygments_lexer": "ipython3",
   "version": "3.5.1"
  }
 },
 "nbformat": 4,
 "nbformat_minor": 1
}
