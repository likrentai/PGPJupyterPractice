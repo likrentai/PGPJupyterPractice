{
 "cells": [
  {
   "attachments": {},
   "cell_type": "markdown",
   "metadata": {},
   "source": [
    "# MODULE TWO: 2.1.1\n",
    "## Functions Arguments & Parameters\n",
    "- **Creating a simple Function with a parameter**\n",
    "- Exploring Functions with `return` values \n",
    "- Creating Functions with multiple parameters\n",
    "- Sequence in python  \n",
    "\n",
    "-----\n",
    "\n",
    "><font size=\"5\" color=\"#00A0B2\"  face=\"verdana\"> <B>Student will be able to</B></font>  \n",
    "- **create functions with a parameter**  \n",
    "- create functions with a `return` value \n",
    "- create functions with multiple parameters\n",
    "- use knowledge of sequence in coding tasks  \n",
    "- Use coding best practices "
   ]
  },
  {
   "attachments": {},
   "cell_type": "markdown",
   "metadata": {},
   "source": [
    "# &nbsp;\n",
    "<font size=\"6\" color=\"#00A0B2\"  face=\"verdana\"> <B>Concept</B></font>\n",
    "## Calling Functions with Arguments\n",
    "Functions are used for code tasks that are intended to be reused \n",
    "\n",
    "Python allows us to create **User Defined Functions** and provides many **Built-in Functions** such as **`print()`**  \n",
    "- **`print()`** can be called using arguments (or without) and sends text to standard output, such as the console. \n",
    "- **`print()`** uses **Parameters** to define the variable Arguments that can be passed to the Function. \n",
    "- **`print()`** defines multiple string/numbers parameters which means we can send a long list of Arguments to **`print()`**, separated by commas.   \n",
    "- **`print()`** can also be called directly with just its name and empty parentheses and it will return a blank line to standard output"
   ]
  },
  {
   "cell_type": "markdown",
   "metadata": {},
   "source": [
    "# &nbsp;\n",
    "<font size=\"6\" color=\"#00A0B2\"  face=\"verdana\"> <B>Examples</B></font>"
   ]
  },
  {
   "cell_type": "code",
   "execution_count": null,
   "metadata": {},
   "outputs": [],
   "source": [
    "print('Hello Python!', 'This is the print function')"
   ]
  },
  {
   "cell_type": "code",
   "execution_count": 1,
   "metadata": {},
   "outputs": [
    {
     "name": "stdout",
     "output_type": "stream",
     "text": [
      "Kimchi will be in the class for 17 year old students.\n"
     ]
    }
   ],
   "source": [
    "student_age = 17\n",
    "student_name = \"Kimchi\"\n",
    "print(student_name,'will be in the class for',student_age, 'year old students.')"
   ]
  },
  {
   "cell_type": "code",
   "execution_count": 2,
   "metadata": {},
   "outputs": [
    {
     "name": "stdout",
     "output_type": "stream",
     "text": [
      "line 1\n",
      "line 2\n",
      "\n",
      "line 4\n"
     ]
    }
   ],
   "source": [
    "print(\"line 1\")\n",
    "print(\"line 2\")\n",
    "# line 3 is an empty return - the default when no arguments\n",
    "print()\n",
    "print(\"line 4\")"
   ]
  },
  {
   "cell_type": "markdown",
   "metadata": {},
   "source": [
    "# &nbsp;\n",
    "<font size=\"6\" color=\"#B24C00\"  face=\"verdana\"> <B>Task 1</B></font>\n",
    "## Passing Arguments to &nbsp; `print()` \n",
    "### Many Arguments can be passed to print \n",
    "\n",
    "- update the print statement to use **`print()`** with **8** or more arguments"
   ]
  },
  {
   "cell_type": "code",
   "execution_count": null,
   "metadata": {},
   "outputs": [],
   "source": [
    "#[ ] increase the number of arguments used in print() to 8 or more \n",
    "student_age = 17\n",
    "student_name = \"Kimchi\"\n",
    "print(student_name,'will be in the class for',student_age, 'year old students.')\n",
    "\n"
   ]
  },
  {
   "attachments": {},
   "cell_type": "markdown",
   "metadata": {
    "collapsed": true
   },
   "source": [
    "# &nbsp;\n",
    "<font size=\"6\" color=\"#00A0B2\"  face=\"verdana\"> <B>Concept</B></font>\n",
    "## Create a simple Function\n",
    "Creating user defined functions is at the core of computer programming.  Functions enable code reuse and make code easier to develop and maintain.\n",
    "### basics of a user defined function\n",
    "- define a function with **`def`** \n",
    "- use indentation (4 spaces)\n",
    "- define parameters\n",
    "- optional parameters \n",
    "- **`return`** values (or none)\n",
    "- function scope (basics defaults)  \n"
   ]
  },
  {
   "attachments": {},
   "cell_type": "markdown",
   "metadata": {},
   "source": [
    "### `def functionx():`\n",
    "use the &nbsp;**`def`** &nbsp;statement when creating a **function**  \n",
    "- use a function name that **starts with a letter** or underscore (usually a lower-case letter)\n",
    "- function names can contain **letters, numbers or underscores**\n",
    "- parenthesis &nbsp; **()**  &nbsp; follow the function name\n",
    "- a colon &nbsp; **:**  &nbsp; follows the parenthesis\n",
    "- the code for the function is indented under the function definition (use 4 spaces for this course)\n",
    "\n",
    "```python\n",
    "def functionx():\n",
    "   #code the function tasks indented here    \n",
    "```\n",
    "The **end of the function** is denoted by returning to **no indentation**"
   ]
  },
  {
   "cell_type": "markdown",
   "metadata": {},
   "source": [
    "# &nbsp;\n",
    "<font size=\"6\" color=\"#00A0B2\"  face=\"verdana\"> <B>Examples</B></font>"
   ]
  },
  {
   "cell_type": "code",
   "execution_count": 6,
   "metadata": {
    "collapsed": true
   },
   "outputs": [
    {
     "name": "stdout",
     "output_type": "stream",
     "text": [
      "Hello!\n",
      "Bye\n"
     ]
    }
   ],
   "source": [
    "# defines a function named functionx1\n",
    "def functionx1():\n",
    "    print(\"Hello!\")\n",
    "    print(\"Bye\")\n",
    "\n",
    "functionx1()"
   ]
  },
  {
   "cell_type": "code",
   "execution_count": null,
   "metadata": {
    "collapsed": true
   },
   "outputs": [],
   "source": [
    "# define functionx2\n",
    "def functionx2():\n",
    "    print(33) "
   ]
  },
  {
   "cell_type": "markdown",
   "metadata": {},
   "source": [
    "# &nbsp;\n",
    "<font size=\"6\" color=\"#00A0B2\"  face=\"verdana\"> <B>Concept</B></font>\n",
    "## Call a function by name\n",
    "Call a simple function using the function name followed by parenthesis.  For instance, calling print is  \n",
    "**`print()`**"
   ]
  },
  {
   "cell_type": "markdown",
   "metadata": {},
   "source": [
    "## &nbsp;\n",
    "<font size=\"6\" color=\"#00A0B2\"  face=\"verdana\"> <B>Examples</B></font>"
   ]
  },
  {
   "cell_type": "code",
   "execution_count": 7,
   "metadata": {},
   "outputs": [
    {
     "name": "stdout",
     "output_type": "stream",
     "text": [
      "Hello!\n",
      "Bye\n",
      "\n",
      "33\n"
     ]
    }
   ],
   "source": [
    "# Program defines and calls the fx1 & fx2 functions\n",
    "# [ ] review and run the code\n",
    "\n",
    "def fx1():\n",
    "    print(\"Hello!\")\n",
    "    print(\"Bye\")\n",
    "# end of indentation ends the function\n",
    "\n",
    "# define fx2 \n",
    "def fx2():\n",
    "    print(33) \n",
    "\n",
    "# calling the functions\n",
    "fx1()\n",
    "print()\n",
    "fx2()"
   ]
  },
  {
   "attachments": {},
   "cell_type": "markdown",
   "metadata": {},
   "source": [
    "# &nbsp;\n",
    "<font size=\"6\" color=\"#B24C00\"  face=\"verdana\"> <B>Task 2</B></font>\n",
    "## Define and call a simple function &nbsp; `fx3()` \n",
    "### `fx3()` &nbsp; prints the phrase with \"!\" concatenated to the end\n",
    "- takes no arguments\n",
    "- indented function code does the following\n",
    "  - define a variable for called **`phrase`** and intialize with a short *phrase*\n",
    "  - prints **`phrase`** as all upper-case letters followed by \"!\"\n",
    "- call &nbsp; `fx3` &nbsp; at the bottom of the cell after the function &nbsp;**`def`**&nbsp; (**Tip:** no indentation should be used)"
   ]
  },
  {
   "cell_type": "code",
   "execution_count": 8,
   "metadata": {},
   "outputs": [
    {
     "name": "stdout",
     "output_type": "stream",
     "text": [
      "HELLO!\n"
     ]
    }
   ],
   "source": [
    "#[ ] define (def) a simple function called fx3() and call the function\n",
    "def fx3():\n",
    "    phrase = 'hello'\n",
    "    print(phrase.upper() + '!')\n",
    "\n",
    "fx3()"
   ]
  },
  {
   "attachments": {},
   "cell_type": "markdown",
   "metadata": {},
   "source": [
    "# &nbsp;\n",
    "<font size=\"6\" color=\"#00A0B2\"  face=\"verdana\"> <B>Concept</B></font>\n",
    "## Functions that have Parameters\n",
    "**`print()`** and **`type()`** are examples of built-in functions that have **Parameters** defined  \n",
    "  \n",
    "**`type()`** has a parameter for a **Python Object** and sends back the *type* of the object\n",
    "  \n",
    "an **Argument** is a value given for a parameter when calling a function  \n",
    "- **`type`** is called providing an **Argument** - in this case the string *\"Hello\"*\n",
    "```python\n",
    "type(\"Hello\")\n",
    "```  \n",
    "\n",
    "## Defining Function Parameters\n",
    "- Parameters are defined inside of the parenthesis as part of a function **`def`** statement\n",
    "- Parameters are typically copies of objects that are available for use in function code\n",
    "```python\n",
    "def fx4(phrase):  \n",
    "      print(phrase)\n",
    "```  \n",
    "\n",
    "## Function can have default Arguments\n",
    "- Default Arguments are used if no argument is supplied\n",
    "- Default arguments are assigned when creating the parameter list\n",
    "```python\n",
    "def fx5(phrase = \"Hi\"):  \n",
    "      print(phrase)\n",
    "```"
   ]
  },
  {
   "cell_type": "markdown",
   "metadata": {},
   "source": [
    "## &nbsp;\n",
    "<font size=\"6\" color=\"#00A0B2\"  face=\"verdana\"> <B>Example</B></font>"
   ]
  },
  {
   "cell_type": "code",
   "execution_count": 9,
   "metadata": {},
   "outputs": [
    {
     "name": "stdout",
     "output_type": "stream",
     "text": [
      "IT IS TIME TO SAVE THE NOTEBOOK!\n"
     ]
    }
   ],
   "source": [
    "# fx4() yells the string Argument provided\n",
    "def fx4(phrase):\n",
    "    print(phrase.upper() + \"!\")\n",
    "    \n",
    "# call function with a string\n",
    "fx4(\"It is time to save the notebook\")"
   ]
  },
  {
   "cell_type": "code",
   "execution_count": 10,
   "metadata": {},
   "outputs": [
    {
     "name": "stdout",
     "output_type": "stream",
     "text": [
      "Hi\n",
      "Bye\n"
     ]
    }
   ],
   "source": [
    "# use a default argument\n",
    "def fx5(phrase = \"Hi\"):  \n",
    "    print(phrase)\n",
    "        \n",
    "fx5()\n",
    "fx5(\"Bye\")"
   ]
  },
  {
   "attachments": {},
   "cell_type": "markdown",
   "metadata": {},
   "source": [
    "# &nbsp;\n",
    "<font size=\"6\" color=\"#B24C00\"  face=\"verdana\"> <B>Task 3</B></font>\n",
    "\n",
    "## Define `fx6()` and call with variable argument \n",
    "- define variable &nbsp; **`words`** &nbsp; as a string gathered from user&nbsp; `input()`\n",
    "- Call &nbsp;**`fx6()`** &nbsp;with &nbsp; **`words`** &nbsp;as argument\n",
    "- get user input() for the string words"
   ]
  },
  {
   "cell_type": "code",
   "execution_count": 12,
   "metadata": {},
   "outputs": [
    {
     "name": "stdout",
     "output_type": "stream",
     "text": [
      "jyhhfxgdyd\n"
     ]
    }
   ],
   "source": [
    "# [ ] define fx6() \n",
    "def fx6(words):\n",
    "    print(words)\n",
    "# [ ] get user input in variable words\n",
    "words = input('Enter something')\n",
    "# [ ] call the fx6 function with words as argument\n",
    "fx6(words)"
   ]
  },
  {
   "cell_type": "code",
   "execution_count": 18,
   "metadata": {},
   "outputs": [
    {
     "name": "stdout",
     "output_type": "stream",
     "text": [
      "gyjgh\n"
     ]
    }
   ],
   "source": [
    "def fx7(a):\n",
    "    print(a)\n",
    "\n",
    "fx7(a = input('Enter something'))"
   ]
  },
  {
   "cell_type": "code",
   "execution_count": 19,
   "metadata": {},
   "outputs": [
    {
     "name": "stdout",
     "output_type": "stream",
     "text": [
      "ehdhfgj\n"
     ]
    }
   ],
   "source": [
    "def fx7(b = input('Enter something')):\n",
    "    print(b)\n",
    "\n",
    "fx7()"
   ]
  },
  {
   "cell_type": "code",
   "execution_count": 20,
   "metadata": {},
   "outputs": [
    {
     "name": "stdout",
     "output_type": "stream",
     "text": [
      "dzvzvd\n"
     ]
    }
   ],
   "source": [
    "c = input('Enter something')\n",
    "def fx7():\n",
    "    print(c)\n",
    "\n",
    "fx7()"
   ]
  }
 ],
 "metadata": {
  "anaconda-cloud": {},
  "kernelspec": {
   "display_name": "likren",
   "language": "python",
   "name": "python3"
  },
  "language_info": {
   "codemirror_mode": {
    "name": "ipython",
    "version": 3
   },
   "file_extension": ".py",
   "mimetype": "text/x-python",
   "name": "python",
   "nbconvert_exporter": "python",
   "pygments_lexer": "ipython3",
   "version": "3.11.2"
  },
  "vscode": {
   "interpreter": {
    "hash": "846203d4651bf7a722e86e2ab20774f6b89d97d393d30d02c0bd1535b0763a95"
   }
  }
 },
 "nbformat": 4,
 "nbformat_minor": 1
}
