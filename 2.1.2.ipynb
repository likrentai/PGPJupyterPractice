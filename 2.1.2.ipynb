{
 "cells": [
  {
   "attachments": {},
   "cell_type": "markdown",
   "metadata": {},
   "source": [
    "# MODULE 2.1.2\n",
    "## Functions Arguments & Parameters\n",
    "- Creating a simple Function with a parameter\n",
    "- **Exploring Functions with `return` values**  \n",
    "- **Creating Functions with multiple parameters**  \n",
    "- Sequence in python  \n",
    "\n",
    "-----\n",
    "\n",
    "><font size=\"5\" color=\"#00A0B2\"  face=\"verdana\"> <B>Student will be able to</B></font>  \n",
    "- create functions with a parameter  \n",
    "- **create functions with a `return` value**\n",
    "- **create functions with multiple parameters**\n",
    "- use knowledge of sequence in coding tasks \n",
    "- Use coding best practices "
   ]
  },
  {
   "attachments": {},
   "cell_type": "markdown",
   "metadata": {},
   "source": [
    "# &nbsp;\n",
    "<font size=\"6\" color=\"#00A0B2\"  face=\"verdana\"> <B>Concepts</B></font>\n",
    "## Calling a function with a return value  \n",
    "- **`type()`** returns an object type\n",
    "-  **`type()`** can be called with a float the return value can be stored in a variable\n",
    "```python\n",
    "object_type = type(2.37)\n",
    "```  \n",
    "\n",
    "## creating a function with a return value  \n",
    "- **`return`** keyword in a function *returns* a value after *exiting* the function  \n",
    "\n",
    "```python\n",
    "def msg(phrase):\n",
    "      double = phrase + \" \" + phrase\n",
    "      return double\n",
    "```  \n"
   ]
  },
  {
   "cell_type": "markdown",
   "metadata": {},
   "source": [
    "## &nbsp;\n",
    "<font size=\"6\" color=\"#00A0B2\"  face=\"verdana\"> <B>Example</B></font>  \n",
    "  \n",
    "review and run the code"
   ]
  },
  {
   "cell_type": "code",
   "execution_count": 1,
   "metadata": {
    "collapsed": false
   },
   "outputs": [
    {
     "name": "stdout",
     "output_type": "stream",
     "text": [
      "go go\n"
     ]
    }
   ],
   "source": [
    "# Message double returns the string Argument doubled\n",
    "def msgdouble(phrase):\n",
    "      double = phrase + \" \" + phrase\n",
    "      return double\n",
    "\n",
    "# save return value in variable\n",
    "msg2x = msgdouble(\"go\")\n",
    "print(msg2x)"
   ]
  },
  {
   "cell_type": "code",
   "execution_count": 2,
   "metadata": {
    "collapsed": false
   },
   "outputs": [
    {
     "name": "stdout",
     "output_type": "stream",
     "text": [
      "Save Now! Save Now!\n"
     ]
    },
    {
     "data": {
      "text/plain": [
       "str"
      ]
     },
     "execution_count": 2,
     "metadata": {},
     "output_type": "execute_result"
    }
   ],
   "source": [
    "# example of functions with return values used in functions\n",
    "def msgdouble(phrase):\n",
    "      double = phrase + \" \" + phrase\n",
    "      return double\n",
    "\n",
    "# prints the returned object\n",
    "print(msgdouble(\"Save Now!\"))\n",
    "\n",
    "# echo the type of the returned object\n",
    "type(msgdouble(\"Save Now!\"))"
   ]
  },
  {
   "attachments": {},
   "cell_type": "markdown",
   "metadata": {},
   "source": [
    "# &nbsp;\n",
    "<font size=\"6\" color=\"#B24C00\"  face=\"verdana\"> <B>Task 1</B></font>\n",
    "\n",
    "## Doctor: a function that adds the \"Doctor\" title to a name\n",
    "- Define function `doctor()`&nbsp; that takes a parameter `name`\n",
    "- get user **input** for variable **`full_name`**\n",
    "- call the function using `full_name` &nbsp; as argument\n",
    "- print the return value"
   ]
  },
  {
   "cell_type": "code",
   "execution_count": null,
   "metadata": {
    "collapsed": false
   },
   "outputs": [],
   "source": [
    "# create and call doctor() with full_name argument from user input - then print the return value\n",
    "\n"
   ]
  },
  {
   "attachments": {},
   "cell_type": "markdown",
   "metadata": {
    "collapsed": true
   },
   "source": [
    "# &nbsp;\n",
    "<font size=\"6\" color=\"#00A0B2\"  face=\"verdana\"> <B>Concepts</B></font>\n",
    "## Functions with multiple parameters\n",
    "Functions can have multiple parameters separated by commas"
   ]
  },
  {
   "cell_type": "markdown",
   "metadata": {
    "collapsed": true
   },
   "source": [
    "## &nbsp;\n",
    "<font size=\"6\" color=\"#00A0B2\"  face=\"verdana\"> <B>Example</B></font>  \n",
    "  \n",
    "review and run the code"
   ]
  },
  {
   "cell_type": "code",
   "execution_count": null,
   "metadata": {
    "collapsed": false
   },
   "outputs": [],
   "source": [
    "def makeschedule(period1, period2):\n",
    "    schedule = (\"[1st] \" + period1.title() + \", [2nd] \" + period2.title())\n",
    "    return schedule\n",
    "\n",
    "myschedule = makeschedule(\"mathematics\", \"coding\")\n",
    "print(\"SCHEDULE:\", myschedule)"
   ]
  },
  {
   "attachments": {},
   "cell_type": "markdown",
   "metadata": {
    "collapsed": true
   },
   "source": [
    "# &nbsp;\n",
    "<font size=\"6\" color=\"#B24C00\"  face=\"verdana\"> <B>Task 2</B></font>\n",
    "\n",
    "## Define `makeschedule()` adding a 3rd period to &nbsp; \n",
    "- Start with the above example code\n",
    "- add a parameter period_3\n",
    "- update function code to add period_3 to the schedule\n",
    "- call **`myschedule()`** with an additional argument such as 'chemistry'\n",
    "- print the schedule"
   ]
  },
  {
   "cell_type": "code",
   "execution_count": null,
   "metadata": {
    "collapsed": false
   },
   "outputs": [],
   "source": [
    "# [ ] add a 3rd period parameter to make_schedule\n",
    "# [ ] Optional - print a schedule for 6 classes (Tip: perhaps let the function make this easy)\n",
    "\n"
   ]
  }
 ],
 "metadata": {
  "anaconda-cloud": {},
  "kernelspec": {
   "display_name": "Python 3",
   "language": "python",
   "name": "python3"
  },
  "language_info": {
   "codemirror_mode": {
    "name": "ipython",
    "version": 3
   },
   "file_extension": ".py",
   "mimetype": "text/x-python",
   "name": "python",
   "nbconvert_exporter": "python",
   "pygments_lexer": "ipython3",
   "version": "3.11.2"
  }
 },
 "nbformat": 4,
 "nbformat_minor": 1
}
