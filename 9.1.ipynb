{
 "cells": [
  {
   "cell_type": "markdown",
   "metadata": {},
   "source": [
    "# MODULE 9.1\n",
    "\n",
    "Advanced Topics:\n",
    "* Lambda Function\n",
    "* map() Function\n",
    "* filter() Function\n",
    "* reduce() Function"
   ]
  },
  {
   "cell_type": "markdown",
   "metadata": {},
   "source": []
  },
  {
   "cell_type": "markdown",
   "metadata": {},
   "source": [
    "___\n",
    "## Lambda Function\n",
    "\n",
    "* **Small anonymous functions (i.e. inline functions defined at the same location of usage).**\n",
    "* **Accept multiple arguments.**\n",
    "* **Often used inside another function.**"
   ]
  },
  {
   "cell_type": "code",
   "execution_count": 3,
   "metadata": {},
   "outputs": [
    {
     "name": "stdout",
     "output_type": "stream",
     "text": [
      "97\n"
     ]
    }
   ],
   "source": [
    "x = lambda a : a + 20\n",
    "print(x(77))"
   ]
  },
  {
   "cell_type": "code",
   "execution_count": 1,
   "metadata": {},
   "outputs": [
    {
     "name": "stdout",
     "output_type": "stream",
     "text": [
      "-68.74409999999999\n"
     ]
    }
   ],
   "source": [
    "x = lambda a, b, c : a*b*c\n",
    "print(x(43, 7.3, -0.219))"
   ]
  },
  {
   "cell_type": "code",
   "execution_count": 13,
   "metadata": {},
   "outputs": [
    {
     "name": "stdout",
     "output_type": "stream",
     "text": [
      "247.5\n"
     ]
    }
   ],
   "source": [
    "# In this example, n is passed in as 7.5\n",
    "def fun(n):\n",
    "    return lambda a : a*n\n",
    "\n",
    "x = fun(7.5)\n",
    "print(x(33))"
   ]
  },
  {
   "cell_type": "code",
   "execution_count": 16,
   "metadata": {},
   "outputs": [
    {
     "name": "stdout",
     "output_type": "stream",
     "text": [
      "7.84\n"
     ]
    }
   ],
   "source": [
    "a = 5.61\n",
    "b = 2.23\n",
    "sum = lambda x,y : x + y\n",
    "c = sum(a,b)\n",
    "print(c)"
   ]
  },
  {
   "cell_type": "code",
   "execution_count": 1,
   "metadata": {},
   "outputs": [
    {
     "name": "stdout",
     "output_type": "stream",
     "text": [
      "True\n",
      "True\n",
      "False\n",
      "False\n",
      "True\n",
      "False\n"
     ]
    }
   ],
   "source": [
    "# check numbers in the given list: Print \"True\" for an even number or \"False\" for an odd number. \n",
    "num = [2,4,7,3,14,19]\n",
    "for i in num:\n",
    "    a = lambda x : (x % 2) == 0\n",
    "    print(a(i))"
   ]
  },
  {
   "cell_type": "markdown",
   "metadata": {},
   "source": [
    "___\n",
    "# map Function\n",
    "\n",
    "**Syntax: map(*func, iterables*)**\n",
    "\n",
    "* **map() applies a transformation function to each element of the iterable, creating a new iterable with the transformed values.**\n",
    "* ***func* applies onto the elements of the iterables.**\n",
    "* ***iterables* refers to elements where iteration applies such as list, tuple, etc.**\n",
    "* **To get the result as a list, the built-in list() function can be called on the map object. i.e. list(map(*func*, *iterables*))**"
   ]
  },
  {
   "cell_type": "code",
   "execution_count": 36,
   "metadata": {},
   "outputs": [
    {
     "name": "stdout",
     "output_type": "stream",
     "text": [
      "[1.5, 3.0, 4.5, 6.0, 7.5, 9.0, 10.5, 12.0, 13.5, 15.0]\n"
     ]
    }
   ],
   "source": [
    "# Set a function, then apply the function to each of the object within an array by using the map() function\n",
    "def processnum(n):\n",
    "    return n*1.5\n",
    "\n",
    "a = [1, 2, 3, 4, 5, 6, 7, 8, 9, 10]\n",
    "result = list(map(processnum, a))\n",
    "print(result)"
   ]
  },
  {
   "cell_type": "code",
   "execution_count": 37,
   "metadata": {},
   "outputs": [
    {
     "name": "stdout",
     "output_type": "stream",
     "text": [
      "[1.5, 3.0, 4.5, 6.0, 7.5, 9.0, 10.5, 12.0, 13.5, 15.0]\n"
     ]
    }
   ],
   "source": [
    "# Similar to above, but a lambda function replaced the normal function\n",
    "a = [1, 2, 3, 4, 5, 6, 7, 8, 9, 10]\n",
    "result = list(map(lambda n: n*1.5, a))\n",
    "print(result)"
   ]
  },
  {
   "cell_type": "code",
   "execution_count": 38,
   "metadata": {},
   "outputs": [
    {
     "name": "stdout",
     "output_type": "stream",
     "text": [
      "[11, 24, 39, 56, 75, 96, 119, 144, 171, 200]\n"
     ]
    }
   ],
   "source": [
    "# Two sets of iterables interact with each other\n",
    "a = [1, 2, 3, 4, 5, 6, 7, 8, 9, 10]\n",
    "b = [11, 12, 13, 14, 15, 16, 17, 18, 19, 20]\n",
    "result = list(map(lambda x, y: x*y, a, b))\n",
    "print(result)"
   ]
  },
  {
   "cell_type": "code",
   "execution_count": 39,
   "metadata": {},
   "outputs": [
    {
     "name": "stdout",
     "output_type": "stream",
     "text": [
      "[('a', 1), ('b', 2), ('c', 3), ('d', 4), ('e', 5), ('f', 6)]\n"
     ]
    }
   ],
   "source": [
    "# map() + lambda function\n",
    "s = ['a', 'b', 'c', 'd', 'e', 'f']\n",
    "a = [1, 2, 3, 4, 5, 6]\n",
    "result = list(map(lambda x, y: (x, y), s, a))\n",
    "print(result)"
   ]
  },
  {
   "cell_type": "code",
   "execution_count": 40,
   "metadata": {},
   "outputs": [
    {
     "name": "stdout",
     "output_type": "stream",
     "text": [
      "[2, 3, 4, 5, 6, 7, 8, 9, 10, 11]\n",
      "[3, 4, 5, 6, 7, 8, 9, 10, 11, 12]\n",
      "[4, 5, 6, 7, 8, 9, 10, 11, 12, 13]\n",
      "[5, 6, 7, 8, 9, 10, 11, 12, 13, 14]\n"
     ]
    }
   ],
   "source": [
    "a = [1, 2, 3, 4, 5, 6, 7, 8, 9, 10]\n",
    "for i in range(1, 5):\n",
    "    result = list(map(lambda x: x+i, a))\n",
    "    print(result)"
   ]
  },
  {
   "cell_type": "code",
   "execution_count": 41,
   "metadata": {},
   "outputs": [
    {
     "name": "stdout",
     "output_type": "stream",
     "text": [
      "(2, 4, 6, 8, 10, 12, 14, 16, 18, 20)\n"
     ]
    }
   ],
   "source": [
    "# map() + lambda function for a tuple\n",
    "tu = (1, 2, 3, 4, 5, 6, 7, 8, 9, 10)\n",
    "result = tuple(map(lambda x: x*2, tu))\n",
    "print(result)"
   ]
  },
  {
   "cell_type": "markdown",
   "metadata": {},
   "source": [
    "___\n",
    "# filter Function\n",
    "\n",
    "**Syntax: filter(*func, iterable*)**\n",
    "\n",
    "* **Requires the function to return boolean values before passing each element through the function.**\n",
    "* **In other words, filter() creates a new iterable by applying a filtering function to each element of the iterable, returning only the elements that satisfy the given condition.**\n",
    "* ***func* must return a boolean value.**\n",
    "* **Only one *iterable* is required.**\n",
    "* **To get the result as a list, the built-in list() function can be called on the map object. i.e. list(filter(*func*, *iterable*))**"
   ]
  },
  {
   "cell_type": "code",
   "execution_count": 42,
   "metadata": {},
   "outputs": [
    {
     "name": "stdout",
     "output_type": "stream",
     "text": [
      "[90, 121, 157, 88]\n"
     ]
    }
   ],
   "source": [
    "# Set a function, then apply the function to each of the object within an array by using the filter() function\n",
    "def req(n):\n",
    "    return n > 85\n",
    "\n",
    "a = [66, 90, 68, 59, 121, 76, 157, 60, 88, 74, 81, 65]\n",
    "above85 = list(filter(req, a))\n",
    "print(above85)"
   ]
  },
  {
   "cell_type": "code",
   "execution_count": 43,
   "metadata": {},
   "outputs": [
    {
     "name": "stdout",
     "output_type": "stream",
     "text": [
      "[2, 4, 6, 8, 10]\n"
     ]
    }
   ],
   "source": [
    "# Similar to above, but a lambda function replaced the normal function\n",
    "# To find even numbers\n",
    "a = [1, 2, 3, 4, 5, 6, 7, 8, 9, 10]\n",
    "result = list(filter(lambda n: n%2==0, a))\n",
    "print(result)"
   ]
  },
  {
   "cell_type": "code",
   "execution_count": 44,
   "metadata": {},
   "outputs": [
    {
     "name": "stdout",
     "output_type": "stream",
     "text": [
      "(90, 121, 157, 88, 81)\n"
     ]
    }
   ],
   "source": [
    "tu = (66, 90, 68, 59, 121, 76, 157, 60, 88, 74, 81, 65)\n",
    "result = tuple(filter(lambda n: n >=81 , tu))\n",
    "print(result)"
   ]
  },
  {
   "cell_type": "markdown",
   "metadata": {},
   "source": [
    "___\n",
    "# reduce Function\n",
    "\n",
    "**Syntax: reduce(*func, iterable, init*)**\n",
    "\n",
    "* **The function applies to the iterables and returns a single value.**\n",
    "* **In other words, reduce() combines elements of the iterables using the func progressively reducing it to a single value.**\n",
    "* **The function tools module must be imported: *from functools import reduce*.**\n",
    "* ***func* requires two arguments: the first and second elements of the iterable.**\n",
    "* ***init* is the optional initial value placed before calculation. Default value = 0.**"
   ]
  },
  {
   "cell_type": "code",
   "execution_count": 48,
   "metadata": {},
   "outputs": [
    {
     "name": "stdout",
     "output_type": "stream",
     "text": [
      "55\n"
     ]
    }
   ],
   "source": [
    "from functools import reduce\n",
    "def sum(x, y):\n",
    "    return x+y\n",
    "\n",
    "a = [1, 2, 3, 4, 5, 6, 7, 8, 9, 10]\n",
    "result = reduce(sum, a)\n",
    "print(result)"
   ]
  },
  {
   "cell_type": "code",
   "execution_count": 49,
   "metadata": {},
   "outputs": [
    {
     "name": "stdout",
     "output_type": "stream",
     "text": [
      "154\n"
     ]
    }
   ],
   "source": [
    "from functools import reduce\n",
    "\n",
    "def sum(x, y):\n",
    "    return x+y\n",
    "\n",
    "a = [1, 2, 3, 4, 5, 6, 7, 8, 9, 10]\n",
    "result = reduce(sum, a, 99)\n",
    "print(result)"
   ]
  },
  {
   "cell_type": "code",
   "execution_count": 50,
   "metadata": {},
   "outputs": [
    {
     "name": "stdout",
     "output_type": "stream",
     "text": [
      "55\n"
     ]
    }
   ],
   "source": [
    "from functools import reduce\n",
    "a = [1, 2, 3, 4, 5, 6, 7, 8, 9, 10]\n",
    "result = reduce(lambda x, y: x+y , a)\n",
    "print(result)"
   ]
  },
  {
   "cell_type": "code",
   "execution_count": 1,
   "metadata": {},
   "outputs": [
    {
     "name": "stdout",
     "output_type": "stream",
     "text": [
      "2.002948816349261e-05\n"
     ]
    }
   ],
   "source": [
    "from functools import reduce\n",
    "a = [1, 2, 3, 4, 5, 6, 7, 8, 9, 10]\n",
    "result = reduce(lambda x, y: (x/y)*1.61 , a)\n",
    "print(result)"
   ]
  }
 ],
 "metadata": {
  "kernelspec": {
   "display_name": "Python 3",
   "language": "python",
   "name": "python3"
  },
  "language_info": {
   "codemirror_mode": {
    "name": "ipython",
    "version": 3
   },
   "file_extension": ".py",
   "mimetype": "text/x-python",
   "name": "python",
   "nbconvert_exporter": "python",
   "pygments_lexer": "ipython3",
   "version": "3.11.2"
  },
  "orig_nbformat": 4
 },
 "nbformat": 4,
 "nbformat_minor": 2
}
