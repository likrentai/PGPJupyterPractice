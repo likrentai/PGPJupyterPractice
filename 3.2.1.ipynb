{
 "cells": [
  {
   "attachments": {},
   "cell_type": "markdown",
   "metadata": {},
   "source": [
    "# MODULE 3.2.1\n",
    "## conditionals, type, and mathematics extended  \n",
    "- **conditionals: `elif`**\n",
    "- **casting**  \n",
    "- basic math operators  \n",
    "\n",
    "-----\n",
    "\n",
    "><font size=\"5\" color=\"#00A0B2\"  face=\"verdana\"> <B>Student will be able to</B></font>  \n",
    "- **code more than two choices using `elif`** \n",
    "- **gather numeric input using type casting**  \n",
    "- perform subtraction, multiplication and division operations in code \n"
   ]
  },
  {
   "attachments": {},
   "cell_type": "markdown",
   "metadata": {},
   "source": [
    "# &nbsp;\n",
    "<font size=\"6\" color=\"#00A0B2\"  face=\"verdana\"> <B>Concepts</B></font>\n",
    "## conditional `elif`\n",
    "### a little review  \n",
    "- **`if`** means \"**if** a condition exists then do some task.\" **`if`** is usually followed by **`else`**  \n",
    "- **`else`** means \"**or else** after we have tested **if**, then do an alternative task\"  \n",
    "\n",
    "When there  is a need to test for multiple conditions there is&nbsp; **`elif`**\n",
    "- **`elif`**&nbsp; statement follows &nbsp;**`if`**, and means **\"else, if \"** another condition exists do something else\n",
    "- **`elif`**&nbsp; can be used many times\n",
    "- **`else`**&nbsp; is used after the last test condition (**`if`** or **`elif`**)\n",
    "\n",
    "#### in psuedo code  \n",
    "**If** it is raining bring an umbrella  \n",
    "or **Else If** &nbsp;(`elif`) it is snowing bring a warm coat  \n",
    "or **Else** go as usual  \n",
    "\n",
    "Like **`else`**, the **`elif`** only executes when the previous conditional is False"
   ]
  },
  {
   "cell_type": "markdown",
   "metadata": {
    "collapsed": true
   },
   "source": [
    "# &nbsp;\n",
    "<font size=\"6\" color=\"#00A0B2\"  face=\"verdana\"> <B>Examples</B></font>"
   ]
  },
  {
   "cell_type": "code",
   "execution_count": null,
   "metadata": {
    "collapsed": false
   },
   "outputs": [],
   "source": [
    "# [ ] review the code then run testing different inputs\n",
    "# WHAT TO WEAR\n",
    "weather = input(\"Enter weather (sunny, rainy, snowy): \") \n",
    "\n",
    "if weather.lower() == \"sunny\":\n",
    "    print(\"Wear a t-shirt\")\n",
    "elif weather.lower() == \"rainy\":\n",
    "    print(\"Bring an umbrella and boots\")\n",
    "elif weather.lower() == \"snowy\":\n",
    "    print(\"Wear a warm coat and hat\")\n",
    "else:\n",
    "    print(\"Sorry, not sure what to suggest for\", weather)"
   ]
  },
  {
   "cell_type": "code",
   "execution_count": null,
   "metadata": {
    "collapsed": false
   },
   "outputs": [],
   "source": [
    "# [ ] review the code then run testing different inputs\n",
    "# SECRET NUMBER GUESS\n",
    "secret_num = \"2\"\n",
    "guess = input(\"Enter a guess for the secret number (1-3): \")\n",
    "\n",
    "if guess.isdigit() == False:\n",
    "    print(\"Invalid: guess should only use digits\")\n",
    "elif guess == \"1\":\n",
    "    print(\"Guess is too low\")\n",
    "elif guess == secret_num:\n",
    "    print(\"Guess is right\")\n",
    "elif guess == \"3\":\n",
    "    print(\"Guess is too high\")\n",
    "else:\n",
    "    print(guess, \"is not a valid guess (1-3)\")"
   ]
  },
  {
   "cell_type": "markdown",
   "metadata": {},
   "source": [
    "# &nbsp;\n",
    "<font size=\"6\" color=\"#B24C00\"  face=\"verdana\"> <B>Task 1</B></font>\n",
    "\n",
    "## Program: Shirt Sale\n",
    "### Complete program using &nbsp; `if, elif, else`\n",
    "- Get user input for variable size (S, M, L)\n",
    "- reply with each shirt size and price (Small = \\$ 6, Medium = \\$ 7, Large = \\$ 8)\n",
    "- if the reply is other than S, M, L, give a message for not available\n",
    "- *optional*: add additional sizes"
   ]
  },
  {
   "cell_type": "code",
   "execution_count": null,
   "metadata": {
    "collapsed": false
   },
   "outputs": [],
   "source": [
    "# [ ] code and test SHIRT SALE\n"
   ]
  },
  {
   "attachments": {},
   "cell_type": "markdown",
   "metadata": {},
   "source": [
    "# &nbsp;\n",
    "<font size=\"6\" color=\"#00A0B2\"  face=\"verdana\"> <B>Concepts</B></font>\n",
    "## casting\n",
    "Casting is the conversion from one data type to another Such as converting from **`str`** to **`int`**.\n",
    "### `int()`\n",
    "the **`int()`** function can convert stings that represent whole counting numbers into integers and strip decimals to convert float numbers to integers\n",
    "- `int(\"1\") = 1` &nbsp; the string representing the integer character `\"1\"`, cast to a number \n",
    "- `int(5.1) = 5` &nbsp; the decimal (float), `5.1`, truncated into a non-decimal (integer)  \n",
    "- `int(\"5.1\") = ValueError` &nbsp; `\"5.1\"` isn't a string representation of integer, `int()` can cast only strings representing integer values   \n"
   ]
  },
  {
   "cell_type": "markdown",
   "metadata": {},
   "source": [
    "# &nbsp;\n",
    "<font size=\"6\" color=\"#00A0B2\"  face=\"verdana\"> <B>Example</B></font>"
   ]
  },
  {
   "cell_type": "code",
   "execution_count": null,
   "metadata": {
    "collapsed": false
   },
   "outputs": [],
   "source": [
    "weight1 = '60' # a string\n",
    "weight2 = 170 # an integer\n",
    "# add 2 integers\n",
    "total_weight = int(weight1) + weight2\n",
    "print(total_weight)"
   ]
  },
  {
   "cell_type": "markdown",
   "metadata": {},
   "source": [
    "# &nbsp;\n",
    "<font size=\"6\" color=\"#B24C00\"  face=\"verdana\"> <B>Task 2</B></font>\n",
    "## casting with `int()` & `str()`"
   ]
  },
  {
   "cell_type": "code",
   "execution_count": 2,
   "metadata": {
    "collapsed": false
   },
   "outputs": [
    {
     "name": "stdout",
     "output_type": "stream",
     "text": [
      "132\n"
     ]
    }
   ],
   "source": [
    "s1 = \"31\"\n",
    "s2 = \"25\"\n",
    "i3 = 76\n",
    "# [ ] Add the 3 numbers as integers and print the result\n",
    "a = int(s1) + int(s2) + i3\n",
    "print(a)"
   ]
  },
  {
   "cell_type": "code",
   "execution_count": null,
   "metadata": {
    "collapsed": false
   },
   "outputs": [],
   "source": [
    "strnum_1 = \"31\"\n",
    "strnum_2 = \"25\"\n",
    "intnum_3 = 76\n",
    "# [ ] Add the 3 numbers as test strings and print the result\n",
    "\n"
   ]
  },
  {
   "attachments": {},
   "cell_type": "markdown",
   "metadata": {},
   "source": [
    "<font size=\"4\" color=\"#B24C00\"  face=\"verdana\"> <B>Task 2 cont...</B></font>\n",
    "### Program: adding using `int` casting\n",
    "- **[ ]** initialize **`integer`** variable to a **string containing characters of an integer** (quotes)   \n",
    "- **[ ]** initialize **`number`** variable with an **integer value** (no quotes)\n",
    "- **[ ]** initialize **`total`** variable and **add intnumber + strinteger** using **`int`** casting\n",
    "- **[ ]** print the sum (**`total`**)"
   ]
  },
  {
   "cell_type": "code",
   "execution_count": null,
   "metadata": {
    "collapsed": false
   },
   "outputs": [],
   "source": [
    "# [ ] code and test: adding using int casting\n",
    "strinteger = \"7\"\n",
    "intnumber = 52\n",
    "total = int(str_integer) + intnumber\n",
    "print(total)\n"
   ]
  },
  {
   "cell_type": "markdown",
   "metadata": {},
   "source": [
    "# &nbsp;\n",
    "<font size=\"6\" color=\"#00A0B2\"  face=\"verdana\"> <B>Concepts</B></font>\n",
    "## `input()`  strings that represent numbers can be \"cast\" to integer values\n"
   ]
  },
  {
   "cell_type": "markdown",
   "metadata": {},
   "source": [
    "# &nbsp;\n",
    "<font size=\"6\" color=\"#00A0B2\"  face=\"verdana\"> <B>Example</B></font>"
   ]
  },
  {
   "cell_type": "code",
   "execution_count": null,
   "metadata": {
    "collapsed": false
   },
   "outputs": [],
   "source": [
    "# [ ] review and run code\n",
    "age = input('Enter student age (integer): ')\n",
    "age_nextyear = int(age) + 1\n",
    "print('Next year student will be',age_nextyear)"
   ]
  },
  {
   "cell_type": "code",
   "execution_count": null,
   "metadata": {
    "collapsed": false
   },
   "outputs": [],
   "source": [
    "# [ ] review and run code\n",
    "# cast to int at input\n",
    "age = int(input('Enter student age (integer): '))\n",
    "\n",
    "age_decade = student_age + 10\n",
    "\n",
    "print('In a decade the student will be', age_decade)"
   ]
  },
  {
   "attachments": {},
   "cell_type": "markdown",
   "metadata": {
    "collapsed": true
   },
   "source": [
    "# &nbsp;\n",
    "<font size=\"6\" color=\"#B24C00\"  face=\"verdana\"> <B>Task 3</B></font>\n",
    "## Program: adding calculator\n",
    "- get input of 2 **integer** numbers \n",
    "- cast the input and print the input followed by the result\n",
    "  - Output Example: **`9 + 43 = 52`**  \n",
    "\n",
    "Optional: check if input .isdigit() before trying integer addition to avoid errors in casting invalid inputs"
   ]
  },
  {
   "cell_type": "code",
   "execution_count": null,
   "metadata": {
    "collapsed": false
   },
   "outputs": [],
   "source": [
    "# [ ] code and test the adding calculator\n",
    "\n"
   ]
  }
 ],
 "metadata": {
  "anaconda-cloud": {},
  "kernelspec": {
   "display_name": "likren",
   "language": "python",
   "name": "python3"
  },
  "language_info": {
   "codemirror_mode": {
    "name": "ipython",
    "version": 3
   },
   "file_extension": ".py",
   "mimetype": "text/x-python",
   "name": "python",
   "nbconvert_exporter": "python",
   "pygments_lexer": "ipython3",
   "version": "3.11.2"
  },
  "vscode": {
   "interpreter": {
    "hash": "846203d4651bf7a722e86e2ab20774f6b89d97d393d30d02c0bd1535b0763a95"
   }
  }
 },
 "nbformat": 4,
 "nbformat_minor": 1
}
