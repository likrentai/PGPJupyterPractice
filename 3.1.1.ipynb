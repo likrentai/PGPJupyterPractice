{
 "cells": [
  {
   "attachments": {},
   "cell_type": "markdown",
   "metadata": {},
   "source": [
    "# MODULE THREE: 3.1.1\n",
    "## Conditionals \n",
    "- **`if`, `else`, `pass`**\n",
    "  - **Conditionals using Boolean String Methods**\n",
    "  - Comparison operators\n",
    "  - String comparisons\n",
    "\n",
    "----- \n",
    "\n",
    "><font size=\"5\" color=\"#00A0B2\"  face=\"verdana\"> <B>Student will be able to</B></font>  \n",
    "- **control code flow with `if`... `else` conditional logic**  \n",
    "  - **using Boolean string methods (`.isupper(), .isalpha(), startswith()...`)**  \n",
    "  - using comparison (`>, <, >=, <=, ==, !=`)  \n",
    "  - using Strings in comparisons  "
   ]
  },
  {
   "attachments": {},
   "cell_type": "markdown",
   "metadata": {},
   "source": [
    "# &nbsp;\n",
    "<font size=\"6\" color=\"#00A0B2\"  face=\"verdana\"> <B>Concepts</B></font>\n",
    "## Conditionals use `True` or `False`\n",
    " - **`if`**\n",
    " - **`else`**\n",
    "   - **`pass`**"
   ]
  },
  {
   "cell_type": "markdown",
   "metadata": {},
   "source": [
    "# &nbsp;\n",
    "<font size=\"6\" color=\"#00A0B2\"  face=\"verdana\"> <B>Examples</B></font>"
   ]
  },
  {
   "cell_type": "code",
   "execution_count": null,
   "metadata": {
    "collapsed": false
   },
   "outputs": [],
   "source": [
    "if True:\n",
    "    print(\"True means do something\")\n",
    "else:\n",
    "    print(\"Not True means do something else\")"
   ]
  },
  {
   "cell_type": "code",
   "execution_count": null,
   "metadata": {
    "collapsed": false
   },
   "outputs": [],
   "source": [
    "hot_tea = True\n",
    "if hot_tea:\n",
    "    print(\"enjoy some hot tea!\")\n",
    "else:\n",
    "    print(\"enjoy some tea, and perhaps try hot tea next time.\")"
   ]
  },
  {
   "cell_type": "code",
   "execution_count": null,
   "metadata": {
    "collapsed": false
   },
   "outputs": [],
   "source": [
    "friend = False\n",
    "if friend:\n",
    "    print(\"how have you been?\")\n",
    "else:\n",
    "    # use pass if there is no need to execute code \n",
    "    pass"
   ]
  },
  {
   "cell_type": "code",
   "execution_count": null,
   "metadata": {
    "collapsed": false
   },
   "outputs": [],
   "source": [
    "# changed the value of someone_i_know\n",
    "friend = True\n",
    "if friend:\n",
    "    print(\"how have you been?\")\n",
    "else:\n",
    "    pass"
   ]
  },
  {
   "cell_type": "markdown",
   "metadata": {
    "collapsed": true
   },
   "source": [
    "# &nbsp;\n",
    "<font size=\"6\" color=\"#B24C00\"  face=\"verdana\"> <B>Task 1</B></font>\n",
    "\n",
    "## Conditionals\n",
    "### Using Boolean with &nbsp; `if, else`\n",
    "\n",
    "- **Give a weather report using `if, else`**"
   ]
  },
  {
   "cell_type": "code",
   "execution_count": null,
   "metadata": {
    "collapsed": false
   },
   "outputs": [],
   "source": [
    "sunny_today = True\n",
    "# [ ] test if it is sunny_today and give proper responses using if and else\n",
    "\n"
   ]
  },
  {
   "cell_type": "code",
   "execution_count": null,
   "metadata": {
    "collapsed": false
   },
   "outputs": [],
   "source": [
    "sunny_today = False\n",
    "# [ ] use code you created above and test sunny_today = False\n",
    "\n"
   ]
  },
  {
   "attachments": {},
   "cell_type": "markdown",
   "metadata": {},
   "source": [
    "# &nbsp;\n",
    "<font size=\"6\" color=\"#00A0B2\"  face=\"verdana\"> <B>Concepts</B></font>\n",
    "## Conditionals: Boolean String test methods  with `if`\n",
    "```python\n",
    "if student_name.isalpha():\n",
    "```  \n",
    "- **`.isalnum()`**\n",
    "- **`.istitle()`**\n",
    "- **`.isdigit()`**\n",
    "- **`.islower()`**\n",
    "- **`.startswith()`**\n"
   ]
  },
  {
   "cell_type": "markdown",
   "metadata": {},
   "source": [
    "### &nbsp;\n",
    "<font size=\"6\" color=\"#00A0B2\"  face=\"verdana\"> <B>Examples</B></font>"
   ]
  },
  {
   "cell_type": "code",
   "execution_count": null,
   "metadata": {
    "collapsed": false
   },
   "outputs": [],
   "source": [
    "# review code and run cell\n",
    "favmovie = input(\"Enter the title of a favorite book: \")\n",
    "\n",
    "if favmovie.istitle():\n",
    "    print(favmovie, \"- nice capitalization in that title!\")\n",
    "else:\n",
    "    print(favmovie, \"- consider capitalization throughout for movie titles.\")"
   ]
  },
  {
   "cell_type": "code",
   "execution_count": null,
   "metadata": {
    "collapsed": false
   },
   "outputs": [],
   "source": [
    "# review code and run cell\n",
    "number = input(\"enter a positive integer number: \")\n",
    "\n",
    "if number.isdigit():\n",
    "    print(number, \"is a positive integer\")\n",
    "else:\n",
    "    print(number, \"is not a positive integer\")\n",
    "    \n",
    "# another if\n",
    "if number.isalpha():\n",
    "    print(number, \"is more like a word\")\n",
    "else:\n",
    "    pass"
   ]
  },
  {
   "cell_type": "code",
   "execution_count": null,
   "metadata": {
    "collapsed": false
   },
   "outputs": [],
   "source": [
    "# review code and run cell\n",
    "vehicle = input('\"enter a type of vehicle that starts with \"P\": ')\n",
    "\n",
    "if vehicle.upper().startswith(\"P\"):\n",
    "    print(vehicle, 'starts with \"P\"')\n",
    "else:\n",
    "    print(vehicle, 'does not start with \"P\"')"
   ]
  },
  {
   "cell_type": "markdown",
   "metadata": {
    "collapsed": true
   },
   "source": [
    "# &nbsp;\n",
    "<font size=\"6\" color=\"#B24C00\"  face=\"verdana\"> <B>Task 2: multi-part</B></font>\n",
    "\n",
    "## Evaluating Boolean Conditionals \n",
    "### create evaluations for `.islower()`\n",
    "- print output describing **if** each of the 2 strings is all lower or not\n"
   ]
  },
  {
   "cell_type": "code",
   "execution_count": 2,
   "metadata": {
    "collapsed": false
   },
   "outputs": [
    {
     "name": "stdout",
     "output_type": "stream",
     "text": [
      "t1 is lower case\n",
      "t2 is not lowercase\n"
     ]
    }
   ],
   "source": [
    "t1 = \"welcome\"\n",
    "t2 = \"I have $100\"\n",
    "# [ ] use if, else to test for islower() for the 2 strings\n",
    "if t1.islower():\n",
    "    print('t1 is lower case')\n",
    "else:\n",
    "    print('t1 is not lower case')\n",
    "\n",
    "if t2.islower():\n",
    "    print('t2 is lowercase')\n",
    "else:\n",
    "    print('t2 is not lowercase')"
   ]
  },
  {
   "cell_type": "code",
   "execution_count": null,
   "metadata": {},
   "outputs": [],
   "source": [
    "if t1.islower() & t2.islower():\n",
    "    print('t1 is lower case')\n",
    "else:\n",
    "    pass"
   ]
  },
  {
   "attachments": {},
   "cell_type": "markdown",
   "metadata": {},
   "source": [
    "<font size=\"3\" color=\"#B24C00\"  face=\"verdana\"> <B>Task 2 continued.. </B></font>\n",
    "### create a functions  using `startswith('w')`\n",
    "- wtest() tests if starts with \"w\"  \n",
    "**function should have a parameter for `teststr` and print the test result**"
   ]
  },
  {
   "cell_type": "code",
   "execution_count": null,
   "metadata": {
    "collapsed": false
   },
   "outputs": [],
   "source": [
    "t1 = \"welcome\"\n",
    "t2 = \"I have $100\"\n",
    "t3 = \"With a function it's efficient to repeat code\"\n",
    "# [ ] create a function wtest() use if & else to test with startswith('w')\n",
    "\n",
    "# [ ] Test the 3 string variables provided by calling wtest()\n",
    "wtest(t1)\n",
    "wtest(t2)\n",
    "wtest(t3)"
   ]
  }
 ],
 "metadata": {
  "anaconda-cloud": {},
  "kernelspec": {
   "display_name": "likren",
   "language": "python",
   "name": "python3"
  },
  "language_info": {
   "codemirror_mode": {
    "name": "ipython",
    "version": 3
   },
   "file_extension": ".py",
   "mimetype": "text/x-python",
   "name": "python",
   "nbconvert_exporter": "python",
   "pygments_lexer": "ipython3",
   "version": "3.11.2"
  },
  "vscode": {
   "interpreter": {
    "hash": "846203d4651bf7a722e86e2ab20774f6b89d97d393d30d02c0bd1535b0763a95"
   }
  }
 },
 "nbformat": 4,
 "nbformat_minor": 1
}
