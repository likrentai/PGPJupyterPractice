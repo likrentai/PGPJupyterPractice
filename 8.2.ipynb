{
 "cells": [
  {
   "attachments": {},
   "cell_type": "markdown",
   "metadata": {},
   "source": [
    "# MODULE 8.2\n",
    "## Working with Files\n",
    "4.1 File import in Jupyter Notebooks  \n",
    "4.1 File **`open()`** and **`.read()`**  \n",
    "4.2 **File Read as a list with `.readlines()`**  \n",
    "4.2 **File Closing to free resources with `.close()`**  \n",
    "4.3 Remove characters using **`.strip()`**  \n",
    "4.3 File Read a line at a time with **`.readline()`**   \n",
    "4.4 File **`.write()`**  with **`.seek()`**  \n",
    "4.4 File append mode \n",
    "\n",
    "-----\n",
    "><font size=\"5\" color=\"#00A0B2\"  face=\"verdana\"> <B>Student will be able to</B></font>  \n",
    "4.1 Import files in Jupyter Notebooks using the curl command  \n",
    "4.1 **`open()`** and **`.read()`** local files in memory   \n",
    "4.1 **`.read(`)** a specific number of characters  \n",
    "4.2 **Use `.readlines()` to read text from files as a list of lines**  \n",
    "4.2 **Use `.close` to free system resources**  \n",
    "4.3 Use **`.readline()`** to read data from file a line at a time  \n",
    "4.3 Use **`.strip()`** to remove new line characters  \n",
    "4.4 **`.write()`** data to a new local file\n",
    "4.4 Use **`.seek()`** to set file read or write location  \n",
    "4.4 Use file append mode"
   ]
  },
  {
   "attachments": {},
   "cell_type": "markdown",
   "metadata": {},
   "source": [
    "# &nbsp;\n",
    "<font size=\"6\" color=\"#00A0B2\"  face=\"verdana\"> <B>Concepts</B></font>\n",
    "## `.readlines()`\n",
    "\n",
    "### File read as a list with .readlines() \n",
    "converts the lines of a file into a **list** of strings\n",
    "\n",
    "```python\n",
    "tlines = testfile.readlines()\n",
    "```"
   ]
  },
  {
   "cell_type": "markdown",
   "metadata": {},
   "source": [
    "# &nbsp;\n",
    "<font size=\"6\" color=\"#00A0B2\"  face=\"verdana\"> <B>Examples</B></font>"
   ]
  },
  {
   "cell_type": "code",
   "execution_count": null,
   "metadata": {
    "collapsed": false,
    "scrolled": false
   },
   "outputs": [],
   "source": [
    "# [ ] Run to download file to notebook\n",
    "!curl https://raw.githubusercontent.com/likrentai/DatasetsForLearning/master/words1.txt -o words1.txt"
   ]
  },
  {
   "cell_type": "code",
   "execution_count": null,
   "metadata": {
    "collapsed": false
   },
   "outputs": [],
   "source": [
    "# [ ] review and run example\n",
    "# open address to file\n",
    "w1 = open('words1.txt', 'r')\n",
    "\n",
    "# readlines and print as a list\n",
    "wlines = w1.readlines()\n",
    "wlines"
   ]
  },
  {
   "cell_type": "code",
   "execution_count": null,
   "metadata": {
    "collapsed": false
   },
   "outputs": [],
   "source": [
    "# [ ] review and run example\n",
    "for y in wlines:\n",
    "    print(y)"
   ]
  },
  {
   "attachments": {},
   "cell_type": "markdown",
   "metadata": {
    "collapsed": true
   },
   "source": [
    "# &nbsp;\n",
    "<font size=\"6\" color=\"#B24C00\"  face=\"verdana\"> <B>Task 1</B></font>\n",
    "\n",
    "## `.readlines()` \n",
    "### open the cities file as a list\n",
    "1. **Import a list of cities using curl**  \n",
    "  a. git the list from https://raw.githubusercontent.com/likrentai/DatasetsForLearning/master/cities.txt   \n",
    "  b. name the list cities.txt  \n",
    "2. **Open cities.txt in read mode using a variable: cfile**  \n",
    "3. **Read cfile as a list variable: clines using `.readlines()`**\n",
    "4. **Print each line of clines by iterating the list**"
   ]
  },
  {
   "cell_type": "code",
   "execution_count": null,
   "metadata": {
    "collapsed": false
   },
   "outputs": [],
   "source": [
    "# [ ] import cities\n"
   ]
  },
  {
   "cell_type": "code",
   "execution_count": null,
   "metadata": {
    "collapsed": false
   },
   "outputs": [],
   "source": [
    "# [ ] open cities.txt as cfile and read the file as a list: clines\n"
   ]
  },
  {
   "cell_type": "code",
   "execution_count": null,
   "metadata": {
    "collapsed": false
   },
   "outputs": [],
   "source": [
    "# [ ] use list iteration to print each city in clines list\n"
   ]
  },
  {
   "attachments": {},
   "cell_type": "markdown",
   "metadata": {},
   "source": [
    "# &nbsp;\n",
    "<font size=\"6\" color=\"#00A0B2\"  face=\"verdana\"> <B>Concepts</B></font>  \n",
    "\n",
    "## working with lists from .readlines()\n",
    "###  remove newline characters from lists created using .readlines()\n",
    "```python\n",
    "for y in wlines:\n",
    "    wlines[count] = y[:-1]\n",
    "    count += 1\n",
    "```\n",
    "**`line[:-1]`** sets the end point at the last character of the string, the result is the **`'\\n'`** (newline) character is omitted\n",
    "\n",
    "| list item | list item contents | \n",
    "|-----|-----|\n",
    "| wlines[0] | 'Loops I repeat\\n' |  \n",
    "| wlines[1] | 'loops\\n' |  \n",
    "| wlines[2] | 'loops\\n' | \n",
    "| wlines[3] | 'I repeat\\n' | \n",
    "|... | ... | "
   ]
  },
  {
   "attachments": {},
   "cell_type": "markdown",
   "metadata": {},
   "source": [
    "### &nbsp;\n",
    "<font size=\"6\" color=\"#00A0B2\"  face=\"verdana\"> <B>Examples</B></font>  \n",
    "This example assumes that words1.txt has been imported in 1st example above"
   ]
  },
  {
   "cell_type": "code",
   "execution_count": null,
   "metadata": {
    "collapsed": false
   },
   "outputs": [],
   "source": [
    "# [ ] review and run examples\n",
    "# [ ] re-open file and read file as a list of strings\n",
    "w1 = open('words1.txt', 'r')\n",
    "wlines = w1.readlines()\n",
    "print(wlines)"
   ]
  },
  {
   "cell_type": "code",
   "execution_count": null,
   "metadata": {
    "collapsed": false
   },
   "outputs": [],
   "source": [
    "# [ ] print each list item \n",
    "for y in wlines:\n",
    "    print(y)"
   ]
  },
  {
   "cell_type": "code",
   "execution_count": null,
   "metadata": {
    "collapsed": false
   },
   "outputs": [],
   "source": [
    "# [ ] remove the last character of each list item, which is \"\\n\"\n",
    "count = 0\n",
    "for y in wlines:\n",
    "    wlines[count] = y[:-1]\n",
    "    count += 1\n",
    "print(wlines)"
   ]
  },
  {
   "cell_type": "code",
   "execution_count": null,
   "metadata": {
    "collapsed": false
   },
   "outputs": [],
   "source": [
    "# [ ] print each list item \n",
    "for y in wlines:\n",
    "    print(y)"
   ]
  },
  {
   "attachments": {},
   "cell_type": "markdown",
   "metadata": {
    "collapsed": true
   },
   "source": [
    "# &nbsp;\n",
    "<font size=\"6\" color=\"#B24C00\"  face=\"verdana\"> <B>Task 2</B></font>\n",
    "\n",
    "## remove newline characters from cities lists created using .readlines()\n",
    "- This task assumes that cites.txt has been imported in Task 1 above\n",
    "- In task 1, the cities were printed with a blank line between each city - this task removes the blank lines"
   ]
  },
  {
   "cell_type": "code",
   "execution_count": null,
   "metadata": {
    "collapsed": false
   },
   "outputs": [],
   "source": [
    "# [ ] re-open file and read file as a list of strings \n",
    "# [ ] open cities.txt as cfile and read the file as a list: clines\n"
   ]
  },
  {
   "cell_type": "code",
   "execution_count": null,
   "metadata": {
    "collapsed": false
   },
   "outputs": [],
   "source": [
    "# [ ] remove the last character, \"\\n\", of each clines list item \n"
   ]
  },
  {
   "cell_type": "code",
   "execution_count": null,
   "metadata": {
    "collapsed": false
   },
   "outputs": [],
   "source": [
    "# [ ] print each list item in clines\n",
    "for y in clines:\n",
    "    print(y)"
   ]
  },
  {
   "attachments": {},
   "cell_type": "markdown",
   "metadata": {},
   "source": [
    "# &nbsp;\n",
    "<font size=\"6\" color=\"#00A0B2\"  face=\"verdana\"> <B>Concepts</B></font>\n",
    "\n",
    "## `.close()`\n",
    "### File .close() method frees resources \n",
    "flie.close() method removes the reference created from file open() function \n",
    "\n",
    "```python  \n",
    "Examples:\n",
    "w1.close()\n",
    "cfile.close()\n",
    "```  "
   ]
  },
  {
   "attachments": {},
   "cell_type": "markdown",
   "metadata": {},
   "source": [
    "# &nbsp;\n",
    "<font size=\"6\" color=\"#00A0B2\"  face=\"verdana\"> <B>Examples</B></font>  \n",
    "This example assumes that words1.txt has been imported in 1st example above"
   ]
  },
  {
   "cell_type": "code",
   "execution_count": null,
   "metadata": {
    "collapsed": false
   },
   "outputs": [],
   "source": [
    "# [ ] review and run example: open and readlines of poem1.txt\n",
    "w1 = open('words1.txt', 'r')\n"
   ]
  },
  {
   "cell_type": "code",
   "execution_count": null,
   "metadata": {
    "collapsed": false
   },
   "outputs": [],
   "source": [
    "# [ ] review and run example: readlines breaks if file is no longer open\n",
    "wlines = w1.readlines()\n",
    "print(wlines)"
   ]
  },
  {
   "cell_type": "code",
   "execution_count": null,
   "metadata": {
    "collapsed": false
   },
   "outputs": [],
   "source": [
    "# [ ] review and run example: Close poem1\n",
    "w1.close()"
   ]
  },
  {
   "attachments": {},
   "cell_type": "markdown",
   "metadata": {
    "collapsed": true
   },
   "source": [
    "# &nbsp;\n",
    "<font size=\"6\" color=\"#B24C00\"  face=\"verdana\"> <B>Task 3</B></font>  \n",
    "## File .close() \n",
    "write each item in it's own cell  \n",
    "- open cities.txt as **cfile**\n",
    "- read the lines as **clines**\n",
    "- print the cities that **start with the letter \"D\" or greater**  \n",
    "- close cfile\n",
    "- test that file is closed"
   ]
  },
  {
   "cell_type": "code",
   "execution_count": null,
   "metadata": {
    "collapsed": false
   },
   "outputs": [],
   "source": [
    "# [ ] open cities.txt as cfile\n"
   ]
  },
  {
   "cell_type": "code",
   "execution_count": null,
   "metadata": {
    "collapsed": false
   },
   "outputs": [],
   "source": [
    "# [ ] read the lines as clines\n"
   ]
  },
  {
   "cell_type": "code",
   "execution_count": null,
   "metadata": {
    "collapsed": false
   },
   "outputs": [],
   "source": [
    "# [ ] print the cities that start with the letter \"D\" or greater\n"
   ]
  },
  {
   "cell_type": "code",
   "execution_count": null,
   "metadata": {
    "collapsed": false
   },
   "outputs": [],
   "source": [
    "# [ ] test that file is closed\n"
   ]
  },
  {
   "cell_type": "code",
   "execution_count": null,
   "metadata": {
    "collapsed": false
   },
   "outputs": [],
   "source": [
    "# [ ] close cfile\n",
    "\n"
   ]
  },
  {
   "attachments": {},
   "cell_type": "markdown",
   "metadata": {
    "collapsed": true
   },
   "source": [
    "# &nbsp;\n",
    "<font size=\"6\" color=\"#B24C00\"  face=\"verdana\"> <B>Task 4</B></font>  \n",
    "## readlines() words2  \n",
    "write each item in its own cell  \n",
    "- import https://raw.githubusercontent.com/likrentai/DatasetsForLearning/master/words2.txt as words2.txt  \n",
    "- open words2.txt as **w2** in read mode\n",
    "- create a list of strings, called **w2lines**, from each line of w2 (use **.readlines()**)  \n",
    "- remove the newline character for each list item in w2lines  \n",
    "- print the w2lines in reverse order  "
   ]
  },
  {
   "cell_type": "code",
   "execution_count": null,
   "metadata": {
    "collapsed": false
   },
   "outputs": [],
   "source": [
    "# [ ] import https://raw.githubusercontent.com/likrentai/DatasetsForLearning/master/words2.txt as words2.txt\n"
   ]
  },
  {
   "cell_type": "code",
   "execution_count": null,
   "metadata": {
    "collapsed": false
   },
   "outputs": [],
   "source": [
    "# [ ] open words2.txt as w2 in read mode\n"
   ]
  },
  {
   "cell_type": "code",
   "execution_count": null,
   "metadata": {
    "collapsed": false
   },
   "outputs": [],
   "source": [
    "# [ ] create a list of strings, called w2lines, from each line of w2\n"
   ]
  },
  {
   "cell_type": "code",
   "execution_count": null,
   "metadata": {
    "collapsed": false
   },
   "outputs": [],
   "source": [
    "# [ ] remove the newline character for each list item in w2lines\n"
   ]
  },
  {
   "cell_type": "code",
   "execution_count": null,
   "metadata": {
    "collapsed": false
   },
   "outputs": [],
   "source": [
    "# [ ] print the w2lines in reverse order\n"
   ]
  }
 ],
 "metadata": {
  "anaconda-cloud": {},
  "kernelspec": {
   "display_name": "Python 3",
   "language": "python",
   "name": "python3"
  },
  "language_info": {
   "codemirror_mode": {
    "name": "ipython",
    "version": 3
   },
   "file_extension": ".py",
   "mimetype": "text/x-python",
   "name": "python",
   "nbconvert_exporter": "python",
   "pygments_lexer": "ipython3",
   "version": "3.6.0"
  }
 },
 "nbformat": 4,
 "nbformat_minor": 1
}
