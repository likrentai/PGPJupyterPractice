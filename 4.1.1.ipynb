{
  "cells": [
    {
      "attachments": {},
      "cell_type": "markdown",
      "metadata": {},
      "source": [
        "# MODULE FOUR: 4.1.1\n",
        "## `while()` loops & increments\n",
        "- **while `True`  or forever loops**\n",
        "- **incrementing in loops**\n",
        "- Boolean operators in while loops\n",
        "\n",
        "\n",
        "-----  \n",
        "\n",
        "><font size=\"5\" color=\"#00A0B2\"  face=\"verdana\"> <B>Student will be able to</B></font>\n",
        "- **create forever loops using `while` and `break`**\n",
        "- **use incrementing variables in a while loop**\n",
        "- control while loops using Boolean operators"
      ]
    },
    {
      "attachments": {},
      "cell_type": "markdown",
      "metadata": {},
      "source": [
        "# &nbsp;\n",
        "<font size=\"6\" color=\"#00A0B2\"  face=\"verdana\"> <B>Concepts</B></font>\n",
        "## `while True:`\n",
        "### Using the 'while True:' loop\n",
        "**`while True:`** is known as the **forever loop** because it ...loops forever  \n",
        "\n",
        "Using the **`while True:`** statement results in a loop that continues to run forever   \n",
        "...or, until the loop is interrupted, such as with a **`break`** statement  \n",
        "\n",
        "## `break`\n",
        "### in a `while` loop, causes code flow to exit the loop  \n",
        "a **conditional** can implement **`break`** to exit a **`while True`** loop  "
      ]
    },
    {
      "cell_type": "markdown",
      "metadata": {},
      "source": [
        "# &nbsp;\n",
        "<font size=\"6\" color=\"#00A0B2\"  face=\"verdana\"> <B>Examples</B></font>\n",
        "## `while True` loops forever unless a `break` statement is used  "
      ]
    },
    {
      "cell_type": "code",
      "execution_count": null,
      "metadata": {
        "trusted": false
      },
      "outputs": [],
      "source": [
        "# Review and run code\n",
        "# this example never loops because the break has no conditions\n",
        "while True:\n",
        "    print('write forever, unless there is a \"break\"')\n",
        "    break"
      ]
    },
    {
      "cell_type": "code",
      "execution_count": null,
      "metadata": {
        "trusted": false
      },
      "outputs": [],
      "source": [
        "# [ ] review the code below to guess numbers then run - Q. what cause the break statement to run?\n",
        "guess = \"0\"\n",
        "ans = \"5\"\n",
        "while True:\n",
        "    guess = input(\"guess the correct number 1 to 5: \")\n",
        "    if guess == ans:\n",
        "        print(\"Yes\", guess,\"is correct!\\n\")\n",
        "        break\n",
        "    else:\n",
        "        print(guess,\"is incorrect. Try again.\\n\")"
      ]
    },
    {
      "cell_type": "code",
      "execution_count": null,
      "metadata": {
        "trusted": false
      },
      "outputs": [],
      "source": [
        "# [ ] review WHAT TO WEAR code then run testing different inputs\n",
        "while True:\n",
        "    weather = input(\"Enter weather (sunny, rainy, snowy, or quit): \") \n",
        "    print()\n",
        "\n",
        "    if weather.lower() == \"sunny\":\n",
        "        print(\"Wear a t-shirt and sunscreen\")\n",
        "        break\n",
        "    elif weather.lower() == \"rainy\":\n",
        "        print(\"Bring an umbrella and boots\")\n",
        "        break\n",
        "    elif weather.lower() == \"snowy\":\n",
        "        print(\"Wear a warm coat and hat\")\n",
        "        break\n",
        "    elif weather.lower().startswith(\"q\"):\n",
        "        print('\"quit\" detected, exiting')\n",
        "        break\n",
        "    else:\n",
        "        print(\"Sorry, not sure what to suggest for\", weather +\"\\n\")"
      ]
    },
    {
      "attachments": {},
      "cell_type": "markdown",
      "metadata": {},
      "source": [
        "# &nbsp;\n",
        "<font size=\"6\" color=\"#B24C00\"  face=\"verdana\"> <B>Task 1</B></font>\n",
        "## `while True` \n",
        "### [ ] Program: Get a name forever ...or until done\n",
        "- create variable, name, and assign it an empty string (**`\"\"`**)\n",
        "- use **`while True:`**\n",
        "- ask for user input for name (common name friends/family use) \n",
        "- keep asking until given a non-blank/non-space alphabetical name is received (Hint: Boolean string test)\n",
        "- break loop and print a greeting using name"
      ]
    },
    {
      "cell_type": "code",
      "execution_count": null,
      "metadata": {
        "trusted": false
      },
      "outputs": [],
      "source": [
        "# [ ] create Get Name program\n",
        "\n"
      ]
    },
    {
      "attachments": {},
      "cell_type": "markdown",
      "metadata": {
        "collapsed": true
      },
      "source": [
        "# &nbsp;\n",
        "<font size=\"6\" color=\"#00A0B2\"  face=\"verdana\"> <B>Concept</B></font>\n",
        "## Incrementing a variable\n",
        "## Incrementing\n",
        "### `votes = votes + 1` &nbsp; &nbsp; or &nbsp;  `votes += 1`\n",
        "\n",
        "## Decrementing \n",
        "### `votes = votes - 1` &nbsp; &nbsp; or &nbsp; `votes -= 1`"
      ]
    },
    {
      "cell_type": "markdown",
      "metadata": {},
      "source": [
        "# &nbsp;\n",
        "<font size=\"6\" color=\"#00A0B2\"  face=\"verdana\"> <B>Examples</B></font>\n",
        "  \n"
      ]
    },
    {
      "cell_type": "code",
      "execution_count": null,
      "metadata": {
        "trusted": false
      },
      "outputs": [],
      "source": [
        "# [ ] review and run example\n",
        "votes = 3\n",
        "print(votes)\n",
        "\n",
        "votes = votes + 1\n",
        "print(votes)\n",
        "\n",
        "votes += 2\n",
        "print(votes)"
      ]
    },
    {
      "cell_type": "code",
      "execution_count": null,
      "metadata": {
        "trusted": false
      },
      "outputs": [],
      "source": [
        "print(votes)\n",
        "\n",
        "votes -= 1\n",
        "print(votes)"
      ]
    },
    {
      "cell_type": "code",
      "execution_count": null,
      "metadata": {
        "trusted": false
      },
      "outputs": [],
      "source": [
        "# [ ] review the SEAT COUNT code then run \n",
        "seatcount = 0\n",
        "while True:\n",
        "    print(\"seat count:\",seatcount)\n",
        "    seatcount = seatcount + 1\n",
        "    \n",
        "    if seatcount > 4:\n",
        "        break"
      ]
    },
    {
      "cell_type": "code",
      "execution_count": null,
      "metadata": {
        "trusted": false
      },
      "outputs": [],
      "source": [
        "# [ ] review the SEAT TYPE COUNT code then run entering: hard, soft, medium and exit\n",
        "# initialize variables\n",
        "seatcount = 0\n",
        "softseats = 0\n",
        "hardseats = 0\n",
        "numseats = 4\n",
        "\n",
        "# loops tallying seats using soft pads vs hard, until seats full or user \"exits\"\n",
        "while True:\n",
        "    seattype = input('enter seat type of \"hard\",\"soft\" or \"exit\" (to finish): ')\n",
        "    \n",
        "    if seattype.lower().startswith(\"e\"):\n",
        "        print()\n",
        "        break\n",
        "    elif seattype.lower() == \"hard\":\n",
        "        hardseats += 1\n",
        "    elif seattype.lower() == \"soft\":\n",
        "        softseats += 1\n",
        "    else:\n",
        "        print(\"invalid entry: counted as hard\")\n",
        "        hardseats += 1  \n",
        "    seatcount += 1\n",
        "    if seatcount >= numseats:\n",
        "        print(\"\\nseats are full\")\n",
        "        break\n",
        "        \n",
        "print(seatcount,\"Seats Total: \",hardseats,\"hard and\",softseats,\"soft\" )"
      ]
    },
    {
      "cell_type": "markdown",
      "metadata": {},
      "source": [
        "# &nbsp;\n",
        "<font size=\"6\" color=\"#B24C00\"  face=\"verdana\"> <B>Task 2</B></font>\n",
        "## incrementing in a `while()` loop\n",
        "### Program: Shirt Count\n",
        "- enter a sizes (S, M, L)\n",
        "- tally the count of each size\n",
        "- input \"exit\" when finished\n",
        "- report out the purchase of each shirt size  \n"
      ]
    },
    {
      "cell_type": "code",
      "execution_count": null,
      "metadata": {
        "trusted": false
      },
      "outputs": [],
      "source": [
        "# [ ] Create the Shirt Count program, run tests\n",
        "\n"
      ]
    },
    {
      "cell_type": "markdown",
      "metadata": {},
      "source": [
        "### CHALLENGE: Shirt Register (optional)  \n",
        "Update the **Shirt Count** program to calculate cost\n",
        "- use shirt cost (S = 6, M = 7, L = 8)\n",
        "- to calculate and report the subtotal cost for each size \n",
        "- to calculate and report the total cost of all shirts"
      ]
    },
    {
      "cell_type": "code",
      "execution_count": null,
      "metadata": {
        "trusted": false
      },
      "outputs": [],
      "source": [
        "# [ ] Create the Shirt Register program, run tests\n",
        "\n"
      ]
    }
  ],
  "metadata": {
    "anaconda-cloud": {},
    "kernelspec": {
      "display_name": "likren",
      "language": "python",
      "name": "python3"
    },
    "language_info": {
      "codemirror_mode": {
        "name": "ipython",
        "version": 3
      },
      "file_extension": ".py",
      "mimetype": "text/x-python",
      "name": "python",
      "nbconvert_exporter": "python",
      "pygments_lexer": "ipython3",
      "version": "3.9.12"
    },
    "vscode": {
      "interpreter": {
        "hash": "846203d4651bf7a722e86e2ab20774f6b89d97d393d30d02c0bd1535b0763a95"
      }
    }
  },
  "nbformat": 4,
  "nbformat_minor": 1
}
