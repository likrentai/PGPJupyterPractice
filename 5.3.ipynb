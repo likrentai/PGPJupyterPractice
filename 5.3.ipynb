{
 "cells": [
  {
   "attachments": {},
   "cell_type": "markdown",
   "metadata": {},
   "source": [
    "# MODULE 5.3\n",
    "## Sequence: String\n",
    "- Accessing String Character with index\n",
    "- Accessing sub-strings with index slicing\n",
    "- **Iterating through Characters of a String**\n",
    "- More String Methods\n",
    "-----\n",
    "><font size=\"5\" color=\"#00A0B2\"  face=\"verdana\"> <B>Student will be able to</B></font>  \n",
    "- Work with String Characters\n",
    "- Slice strings into substrings\n",
    "- **Iterate through String Characters**\n",
    "- Use String Methods"
   ]
  },
  {
   "attachments": {},
   "cell_type": "markdown",
   "metadata": {},
   "source": [
    "# &nbsp;\n",
    "<font size=\"6\" color=\"#00A0B2\"  face=\"verdana\"> <B>Concepts</B></font>\n",
    "## Iterate a String: 1 character at a time\n",
    "### `for letter in word:`\n",
    "Python provides powerful sequence iteration features.  Below, **`for letter in word:`** loops through each letter in *word*.\n",
    "```python\n",
    "word = \"meatballs\"\n",
    "for y in word:\n",
    "    print(y)\n",
    "```  \n",
    "The variable **`letter`** is an arbitrary variable name .  Any valid variable name can be used."
   ]
  },
  {
   "cell_type": "markdown",
   "metadata": {},
   "source": [
    "# &nbsp;\n",
    "<font size=\"6\" color=\"#00A0B2\"  face=\"verdana\"> <B>Examples</B></font>"
   ]
  },
  {
   "cell_type": "code",
   "execution_count": 1,
   "metadata": {
    "collapsed": false
   },
   "outputs": [
    {
     "name": "stdout",
     "output_type": "stream",
     "text": [
      "m\n",
      "e\n",
      "a\n",
      "t\n",
      "b\n",
      "a\n",
      "l\n",
      "l\n",
      "s\n"
     ]
    }
   ],
   "source": [
    "# [ ] review and run example\n",
    "word = \"meatballs\"\n",
    "for x in word:\n",
    "    print(x)"
   ]
  },
  {
   "cell_type": "code",
   "execution_count": 2,
   "metadata": {
    "collapsed": false
   },
   "outputs": [
    {
     "name": "stdout",
     "output_type": "stream",
     "text": [
      "n\n",
      "o\n",
      "o\n",
      "d\n",
      "l\n",
      "e\n",
      "s\n"
     ]
    }
   ],
   "source": [
    "# [ ] review and run example\n",
    "# note: the variable 'x' changed to 'y'\n",
    "word = \"noodles\"\n",
    "for y in word:\n",
    "    print(y)"
   ]
  },
  {
   "cell_type": "code",
   "execution_count": 3,
   "metadata": {
    "collapsed": false
   },
   "outputs": [
    {
     "name": "stdout",
     "output_type": "stream",
     "text": [
      "p\n",
      "o\n",
      "r\n",
      "k\n",
      "c\n",
      "h\n",
      "o\n",
      "p\n"
     ]
    }
   ],
   "source": [
    "# [ ] review and run example\n",
    "# note: variable is now 'z' \n",
    "# using 'x', 'y' or 'z' are all the same result\n",
    "word = \"porkchop\"\n",
    "for z in word:\n",
    "    print(z)"
   ]
  },
  {
   "cell_type": "code",
   "execution_count": 4,
   "metadata": {
    "collapsed": false
   },
   "outputs": [
    {
     "name": "stdout",
     "output_type": "stream",
     "text": [
      "Skycastle to SkyCastle\n"
     ]
    }
   ],
   "source": [
    "# [ ] review and run example\n",
    "# creates a new string (name) adding a letter (x) each loop\n",
    "# Q?: how many times will the loop run?\n",
    "studentname = \"Skycastle\"\n",
    "name = \"\"\n",
    "\n",
    "for x in studentname:\n",
    "    if x.lower() == \"c\":\n",
    "        name += x.upper()\n",
    "    else:\n",
    "        name += x\n",
    "print(studentname,\"to\",name)"
   ]
  },
  {
   "cell_type": "code",
   "execution_count": null,
   "metadata": {},
   "outputs": [],
   "source": [
    "lname = \"Sky_BIG_castle\"\n",
    "name = \"\"\n",
    "\n",
    "for x in lname:\n",
    "    if x.lower() == \"_\":\n",
    "        name += ' '\n",
    "    else:\n",
    "        name += x\n",
    "print(lname,\"to\",name)"
   ]
  },
  {
   "attachments": {},
   "cell_type": "markdown",
   "metadata": {
    "collapsed": true
   },
   "source": [
    "# &nbsp;\n",
    "<font size=\"6\" color=\"#B24C00\"  face=\"verdana\"> <B>Task 1</B></font>\n",
    "## iterate a String\n",
    "### one character at a time"
   ]
  },
  {
   "cell_type": "code",
   "execution_count": null,
   "metadata": {
    "collapsed": false
   },
   "outputs": [],
   "source": [
    "# [ ] Get user input for firstname\n",
    "# [ ] iterate through letters in firstname \n",
    "#    - print each letter on a new line\n"
   ]
  },
  {
   "attachments": {},
   "cell_type": "markdown",
   "metadata": {},
   "source": [
    "# &nbsp;\n",
    "<font size=\"6\" color=\"#B24C00\"  face=\"verdana\"> <B>Task 2</B></font>\n",
    "## Program: capitalize-io\n",
    "- get user input for firstname\n",
    "- create an empty string variable: newname\n",
    "- iterate through letters in firstname \n",
    "  -  add each letter in newname\n",
    "  - capitalise if letter is an \"i\" or \"o\" *(hint: if, elif, else)\n",
    "- print newname"
   ]
  },
  {
   "cell_type": "code",
   "execution_count": null,
   "metadata": {
    "collapsed": false
   },
   "outputs": [],
   "source": [
    "# [ ] Create capitalise-io\n"
   ]
  },
  {
   "attachments": {},
   "cell_type": "markdown",
   "metadata": {},
   "source": [
    "# &nbsp;\n",
    "<font size=\"6\" color=\"#00A0B2\"  face=\"verdana\"> <B>Concepts</B></font>\n",
    "## Iterate sub-strings\n",
    "Combine String slicing and iteration\n",
    "```python\n",
    "studentname = \"Skye\"\n",
    "for x in studentname[:3]:\n",
    "    print(x)\n",
    "```\n",
    "Iterate backwards using: **`studentname[::-1]`**"
   ]
  },
  {
   "cell_type": "markdown",
   "metadata": {},
   "source": [
    "### &nbsp;\n",
    "<font size=\"6\" color=\"#00A0B2\"  face=\"verdana\"> <B>Example</B></font>"
   ]
  },
  {
   "cell_type": "code",
   "execution_count": null,
   "metadata": {
    "collapsed": false
   },
   "outputs": [],
   "source": [
    "# [ ] review and run example\n",
    "studentname = \"Skye\"\n",
    "\n",
    "for x in studentname[:3]:\n",
    "    print(x)"
   ]
  },
  {
   "cell_type": "code",
   "execution_count": null,
   "metadata": {
    "collapsed": false
   },
   "outputs": [],
   "source": [
    "# Iterate BACKWARDS\n",
    "# [ ] review and run example\n",
    "studentname = \"Slobby\"\n",
    "\n",
    "# start at \"o\" (studentname[2]), iterate backwards\n",
    "for x in studentname[5::-1]:\n",
    "    print(x)"
   ]
  },
  {
   "cell_type": "markdown",
   "metadata": {
    "collapsed": true
   },
   "source": [
    "# &nbsp;\n",
    "<font size=\"6\" color=\"#B24C00\"  face=\"verdana\"> <B>Task 3</B></font>\n",
    "###  String slicing and iteration"
   ]
  },
  {
   "cell_type": "code",
   "execution_count": null,
   "metadata": {
    "collapsed": false
   },
   "outputs": [],
   "source": [
    "# [ ] create & print a variable, otherword, made of every other letter in longword\n",
    "longword = \"juxtaposition\"\n"
   ]
  },
  {
   "cell_type": "code",
   "execution_count": null,
   "metadata": {
    "collapsed": false
   },
   "outputs": [],
   "source": [
    "# Mirror Colour\n",
    "# [ ] get user input, favcolour\n",
    "# [ ] print favcolour backwards + favcolour\n",
    "# example: \"Red\" prints \"deRRed\"\n"
   ]
  }
 ],
 "metadata": {
  "anaconda-cloud": {},
  "kernelspec": {
   "display_name": "Python 3",
   "language": "python",
   "name": "python3"
  },
  "language_info": {
   "codemirror_mode": {
    "name": "ipython",
    "version": 3
   },
   "file_extension": ".py",
   "mimetype": "text/x-python",
   "name": "python",
   "nbconvert_exporter": "python",
   "pygments_lexer": "ipython3",
   "version": "3.11.2"
  }
 },
 "nbformat": 4,
 "nbformat_minor": 1
}
