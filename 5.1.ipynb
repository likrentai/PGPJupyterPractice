{
 "cells": [
  {
   "attachments": {},
   "cell_type": "markdown",
   "metadata": {},
   "source": [
    "# MODULE FIVE: 5.1\n",
    "## Sequence: String\n",
    "- **Accessing String Characters with index**\n",
    "- Accessing sub-strings with index slicing\n",
    "- Iterating through Characters of a String\n",
    "- More String Methods\n",
    "----- \n",
    "><font size=\"5\" color=\"#00A0B2\"  face=\"verdana\"> <B>Student will be able to</B></font>  \n",
    "- **Work with String Characters by index\n",
    "**\n",
    "- Slice strings into substrings\n",
    "- Iterate through String Characters\n",
    "- Use String Methods"
   ]
  },
  {
   "attachments": {},
   "cell_type": "markdown",
   "metadata": {
    "collapsed": true
   },
   "source": [
    "# &nbsp;\n",
    "<font size=\"6\" color=\"#00A0B2\"  face=\"verdana\"> <B>Concepts</B></font>\n",
    "## Accessing a single String Character\n",
    "### addressing a string index\n",
    "Strings are sequences of characters.  Another common sequence type used in this course is a **list**.  Sequences index items counting from 0 for the first item.\n",
    "```python\n",
    "# assign string to studentname\n",
    "studentname = \"Kimchi\"\n",
    "# first character is at index 0\n",
    "studentname[0]\n",
    "```"
   ]
  },
  {
   "cell_type": "markdown",
   "metadata": {},
   "source": [
    "# &nbsp;\n",
    "<font size=\"6\" color=\"#00A0B2\"  face=\"verdana\"> <B>Examples</B></font>"
   ]
  },
  {
   "cell_type": "code",
   "execution_count": null,
   "metadata": {
    "collapsed": true
   },
   "outputs": [],
   "source": [
    "# [ ] review and run example - note the first element is always index = 0\n",
    "studentname = \"Kimchi\"\n",
    "print(studentname[0], \"<-- first character at index 0\")\n",
    "print(studentname[1])\n",
    "print(studentname[2])\n",
    "print(studentname[3])\n",
    "print(studentname[4])"
   ]
  },
  {
   "cell_type": "code",
   "execution_count": null,
   "metadata": {
    "collapsed": false
   },
   "outputs": [],
   "source": [
    "# [ ] review and run example\n",
    "studentname = \"JinHyuk\"\n",
    "if studentname[0].lower() == \"a\":\n",
    "    print('Winner! Name starts with A:', studentname)\n",
    "elif studentname[0].lower() == \"j\":\n",
    "    print('Winner! Name starts with J:', studentname)\n",
    "else:\n",
    "    print('Not a match, try again tomorrow:', studentname)"
   ]
  },
  {
   "cell_type": "code",
   "execution_count": null,
   "metadata": {
    "collapsed": false
   },
   "outputs": [],
   "source": [
    "# [ ] review and run ERROR example\n",
    "# cannot index out of range\n",
    "studentname = \"Slob\"\n",
    "print(studentname[6])"
   ]
  },
  {
   "attachments": {},
   "cell_type": "markdown",
   "metadata": {
    "collapsed": true
   },
   "source": [
    "# &nbsp;\n",
    "<font size=\"6\" color=\"#B24C00\"  face=\"verdana\"> <B>Task 1</B></font>\n",
    "## Work with individual string characters  \n",
    "|                                                                 |\n",
    "|-----------------------------------------------------------------|\n",
    "|  **Remember:** the first character in a string is at **index 0**|\n",
    "|                                                                 |"
   ]
  },
  {
   "cell_type": "code",
   "execution_count": null,
   "metadata": {
    "collapsed": false
   },
   "outputs": [],
   "source": [
    "# [ ] assign a string 5 or more letters long to the variable: streetname\n",
    "# [ ] print the 1st, 3rd and 5th characters"
   ]
  },
  {
   "cell_type": "code",
   "execution_count": null,
   "metadata": {
    "collapsed": false
   },
   "outputs": [],
   "source": [
    "# [ ] Create an input variable: teamname - ask that second letter = \"i\", \"o\", or \"u\"\n",
    "# [ ] Test if teamname 2nd character = \"i\", \"o\", or \"u\" and print a message\n",
    "# note: use if, elif and else"
   ]
  },
  {
   "attachments": {},
   "cell_type": "markdown",
   "metadata": {},
   "source": [
    "# &nbsp;\n",
    "<font size=\"6\" color=\"#00A0B2\"  face=\"verdana\"> <B>Concepts</B></font>\n",
    "## Using a negative index\n",
    "### Access the end of a string using -1\n",
    "Strings assign an **index** number address to each string character\n",
    "- first character in a string is index 0\n",
    "- last character in a string is index **-1**\n",
    "To access the last character in a string\n",
    "```python\n",
    "studentname[-1]\n",
    "```"
   ]
  },
  {
   "attachments": {},
   "cell_type": "markdown",
   "metadata": {},
   "source": [
    "### &nbsp;\n",
    "<font size=\"6\" color=\"#00A0B2\"  face=\"verdana\"> <B>Examples</B></font>"
   ]
  },
  {
   "attachments": {},
   "cell_type": "markdown",
   "metadata": {},
   "source": [
    "#### access the last character with the -1 index\n",
    "negative index counts back from the last character in a string"
   ]
  },
  {
   "cell_type": "code",
   "execution_count": null,
   "metadata": {
    "collapsed": false
   },
   "outputs": [],
   "source": [
    "# [ ] review and run example\n",
    "studentname = \"Monk\"\n",
    "\n",
    "# get last letter\n",
    "endletter = studentname[-1]\n",
    "print(studentname,\"ends with\", \"'\" + endletter + \"'\")"
   ]
  },
  {
   "cell_type": "code",
   "execution_count": null,
   "metadata": {
    "collapsed": false
   },
   "outputs": [],
   "source": [
    "# [ ] review and run example\n",
    "# get second to last letter\n",
    "secondlastletter = studentname[-2]\n",
    "print(studentname,\"has 2nd to last letter of\", \"'\" + secondlastletter + \"'\")"
   ]
  },
  {
   "cell_type": "code",
   "execution_count": null,
   "metadata": {
    "collapsed": false
   },
   "outputs": [],
   "source": [
    "# [ ] review and run example\n",
    "# you can get to the same letter with index counting + or -\n",
    "print(\"for\", studentname)\n",
    "print(\"index 3 =\", \"'\" + studentname[3] + \"'\")\n",
    "print(\"index -2 =\",\"'\" + studentname[-2] + \"'\")"
   ]
  },
  {
   "attachments": {},
   "cell_type": "markdown",
   "metadata": {
    "collapsed": true
   },
   "source": [
    "# &nbsp;\n",
    "<font size=\"6\" color=\"#B24C00\"  face=\"verdana\"> <B>Task 2</B></font>"
   ]
  },
  {
   "cell_type": "code",
   "execution_count": null,
   "metadata": {
    "collapsed": false
   },
   "outputs": [],
   "source": [
    "# [ ] assign a string 5 or more letters long to the variable: streetname\n",
    "# [ ] print the last 3 characters of streetname"
   ]
  },
  {
   "cell_type": "code",
   "execution_count": null,
   "metadata": {
    "collapsed": false
   },
   "outputs": [],
   "source": [
    "# [ ] create and assign string variable: firstname\n",
    "\n",
    "# [ ] print the first and last letters of name\n"
   ]
  },
  {
   "cell_type": "markdown",
   "metadata": {
    "collapsed": true
   },
   "source": [
    "# &nbsp;\n",
    "<font size=\"6\" color=\"#B24C00\"  face=\"verdana\"> <B>Task 3</B></font>  \n",
    "## Fix the Errors"
   ]
  },
  {
   "cell_type": "code",
   "execution_count": null,
   "metadata": {
    "collapsed": false
   },
   "outputs": [],
   "source": [
    "# [ ] Review, Run, Fix the error using string index\n",
    "shoe = \"tennis\"\n",
    "# print the last letter\n",
    "print(shoe(-1))\n",
    "\n"
   ]
  }
 ],
 "metadata": {
  "anaconda-cloud": {},
  "kernelspec": {
   "display_name": "Python 3",
   "language": "python",
   "name": "python3"
  },
  "language_info": {
   "codemirror_mode": {
    "name": "ipython",
    "version": 3
   },
   "file_extension": ".py",
   "mimetype": "text/x-python",
   "name": "python",
   "nbconvert_exporter": "python",
   "pygments_lexer": "ipython3",
   "version": "3.5.1"
  }
 },
 "nbformat": 4,
 "nbformat_minor": 1
}
