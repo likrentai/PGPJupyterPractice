{
 "cells": [
  {
   "attachments": {},
   "cell_type": "markdown",
   "metadata": {
    "collapsed": true
   },
   "source": [
    "# MODULE 1.2.1\n",
    "## Strings: input, testing, formatting\n",
    "- **input() - gathering user input**  \n",
    "- print() formatting \n",
    "- Quotes inside strings\n",
    "- Boolean string tests methods\n",
    "- String formatting methods\n",
    "- Formatting string input()\n",
    "- Boolean `in` keyword \n",
    "\n",
    "-----\n",
    "\n",
    "><font size=\"5\" color=\"#00A0B2\"  face=\"verdana\"> <B>Student will be able to</B></font>\n",
    "- **gather, store and use string `input()`**  \n",
    "- format `print()` output\n",
    "- test string characteristics\n",
    "- format string output\n",
    "- search for a string in a string"
   ]
  },
  {
   "attachments": {},
   "cell_type": "markdown",
   "metadata": {
    "collapsed": true
   },
   "source": [
    "# &nbsp;  \n",
    "<font size=\"6\" color=\"#00A0B2\"  face=\"verdana\"> <B>Concepts</B></font> \n",
    "\n",
    "## input()  \n",
    "### get information from users with `input()`  \n",
    "the **`input()`** function prompts the user to supply data returning that data as a string\n"
   ]
  },
  {
   "cell_type": "markdown",
   "metadata": {},
   "source": [
    "<font size=\"6\" color=\"#00A0B2\"  face=\"verdana\"> <B>Examples</B></font>  "
   ]
  },
  {
   "cell_type": "code",
   "execution_count": null,
   "metadata": {
    "collapsed": false
   },
   "outputs": [],
   "source": [
    "# review and run code - enter a number in the text box\n",
    "print(\"enter a number: \")\n",
    "number = input()\n",
    "print(\"Number: \")\n",
    "print(number)"
   ]
  },
  {
   "cell_type": "markdown",
   "metadata": {},
   "source": [
    "# &nbsp;\n",
    "<font size=\"6\" color=\"#B24C00\"  face=\"verdana\"> <B>Task 1</B></font>\n",
    "## storing input in a variable\n",
    "- **[ ]** create code to store input in student_name variable  \n",
    "an input box should when run\n",
    "- **[ ]** type a name in the input box and press **Enter**\n",
    "- **[ ]** determine the **`type()`** of **student_name**"
   ]
  },
  {
   "cell_type": "code",
   "execution_count": null,
   "metadata": {
    "collapsed": false
   },
   "outputs": [],
   "source": [
    "# [ ] get input for the variable student_name\n",
    "\n",
    "# [ ] determine the type of student_name\n",
    "\n",
    "\n"
   ]
  },
  {
   "cell_type": "markdown",
   "metadata": {},
   "source": [
    "<font size=\"4\" color=\"#B24C00\"  face=\"verdana\"> <B>Task 1 continued...</B></font>  \n",
    "> **note**: **`input()`** returns a string (type = str) regardless of entry\n",
    "- if a string is entered **`input()`** returns a string\n",
    "- if a number is entered **`input()`** returns a string  \n",
    "  \n",
    "- **[ ]** determine the **`type()`**  of input below by entering\n",
    "  - a name\n",
    "  - an integer (whole number no decimal)\n",
    "  - a float a number with a decimal point"
   ]
  },
  {
   "cell_type": "code",
   "execution_count": null,
   "metadata": {
    "collapsed": false
   },
   "outputs": [],
   "source": [
    "# [ ] run cell several times entering a name a int number and a float number after adding code below\n",
    "print(\"enter a name or number\")\n",
    "test_input = input()\n",
    "# [ ] insert code below to check the type of test_input\n",
    "\n",
    "\n"
   ]
  },
  {
   "attachments": {},
   "cell_type": "markdown",
   "metadata": {},
   "source": [
    "# &nbsp;\n",
    "<font size=\"6\" color=\"#00A0B2\"  face=\"verdana\"> <B>Concepts</B></font>  \n",
    "### user prompts using `input()`\n",
    "\n",
    "the **`input()`** function has an optional string argument which displays the string intended to inform a user what to enter  \n",
    "**`input()`** works similar to **`print()`**&nbsp;in the way it displays arguments as output"
   ]
  },
  {
   "cell_type": "markdown",
   "metadata": {},
   "source": [
    "# &nbsp;\n",
    "<font size=\"6\" color=\"#00A0B2\"  face=\"verdana\"> <B>Examples</B></font>"
   ]
  },
  {
   "cell_type": "code",
   "execution_count": null,
   "metadata": {
    "collapsed": false
   },
   "outputs": [],
   "source": [
    "student_name = input(\"enter the student name: \")  \n",
    "print(\"Hi \" + student_name)"
   ]
  },
  {
   "cell_type": "markdown",
   "metadata": {},
   "source": [
    "# &nbsp;\n",
    "<font size=\"6\" color=\"#B24C00\"  face=\"verdana\"> <B>Task 2</B></font>  \n",
    "## prompting the user for input\n",
    "- **[ ]** create a variable named **city** to store input, add a prompt for the name of a city\n",
    "- **[ ]** print \"the city name is \" followed by the value stored in **city**"
   ]
  },
  {
   "cell_type": "code",
   "execution_count": null,
   "metadata": {
    "collapsed": false
   },
   "outputs": [],
   "source": [
    "# [ ] get user input for a city name in the variable named city\n",
    "\n",
    "# [ ] print the city name\n",
    "\n",
    "\n"
   ]
  },
  {
   "attachments": {},
   "cell_type": "markdown",
   "metadata": {
    "collapsed": true
   },
   "source": [
    "\n",
    "<font size=\"4\" color=\"#B24C00\"  face=\"verdana\"> <B>Task 2 cont...</B></font>  \n",
    "## multiple prompts for user input\n",
    "often programs need information on multiple items\n",
    "- **[ ]** create variables to store input: **name**, **age**, **get_mail**\n",
    "- **[ ]** create prompts for name, age and yes/no to being on an email list\n",
    "- **[ ]** print description + input values   \n",
    "\n",
    ">example print output:  \n",
    "`name = Kimchi`  \n",
    "`age =  17`  \n",
    "`wants email = yes`  \n",
    "  \n",
    "**tip**: with multiple input statements, after each prompt, **click 'in' the input box** to continue entering input "
   ]
  },
  {
   "cell_type": "code",
   "execution_count": null,
   "metadata": {
    "collapsed": false
   },
   "outputs": [],
   "source": [
    "# [ ]create variables to store input: name, age, get_mail with prompts\n",
    "# for name, age and yes/no to being on an email list\n",
    "\n",
    "\n",
    "# [ ] print a description + variable value for each variable\n",
    "\n",
    "\n"
   ]
  }
 ],
 "metadata": {
  "anaconda-cloud": {},
  "kernelspec": {
   "display_name": "Python 3",
   "language": "python",
   "name": "python3"
  },
  "language_info": {
   "codemirror_mode": {
    "name": "ipython",
    "version": 3
   },
   "file_extension": ".py",
   "mimetype": "text/x-python",
   "name": "python",
   "nbconvert_exporter": "python",
   "pygments_lexer": "ipython3",
   "version": "3.5.1"
  }
 },
 "nbformat": 4,
 "nbformat_minor": 1
}
