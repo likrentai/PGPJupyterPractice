{
 "cells": [
  {
   "attachments": {},
   "cell_type": "markdown",
   "metadata": {},
   "source": [
    "# MODULE 5.2\n",
    "## Sequence: String\n",
    "- Accessing String Character with index\n",
    "- **Accessing sub-strings with index slicing**\n",
    "- Iterating through Characters of a String\n",
    "- More String Methods\n",
    "-----\n",
    "><font size=\"5\" color=\"#00A0B2\"  face=\"verdana\"> <B>Student will be able to</B></font>  \n",
    "- Work with String Characters\n",
    "- **Slice strings into substrings**\n",
    "- Iterate through String Characters\n",
    "- Use String Methods"
   ]
  },
  {
   "attachments": {},
   "cell_type": "markdown",
   "metadata": {},
   "source": [
    "# &nbsp;\n",
    "<font size=\"6\" color=\"#00A0B2\"  face=\"verdana\"> <B>Concepts</B></font>\n",
    "## Accessing sub-strings\n",
    "### Index Slicing [start:stop]\n",
    "String slicing returns a string section by addressing the start and stop indexes\n",
    "```python\n",
    "# assign string to studentname\n",
    "studentname = \"JohnsonB\"\n",
    "# addressing the 3rd, 4th and 5th characters\n",
    "studentname[2:5]\n",
    "```\n",
    "The slice starts at index 2 and ends at index 5 (but does not include index 5)"
   ]
  },
  {
   "cell_type": "markdown",
   "metadata": {},
   "source": [
    "# &nbsp;\n",
    "<font size=\"6\" color=\"#00A0B2\"  face=\"verdana\"> <B>Examples</B></font>"
   ]
  },
  {
   "cell_type": "code",
   "execution_count": null,
   "metadata": {
    "collapsed": false
   },
   "outputs": [],
   "source": [
    "# [ ] review and run example\n",
    "# assign string to studentname\n",
    "studentname = \"JohnsonB\"\n",
    "\n",
    "# addressing the 3rd, 4th and 5th characters using a slice\n",
    "print(\"slice studentname[2:5]:\",studentname[2:5])"
   ]
  },
  {
   "cell_type": "code",
   "execution_count": null,
   "metadata": {
    "collapsed": false
   },
   "outputs": [],
   "source": [
    "# [ ] review and run example\n",
    "# assign string to studentname\n",
    "studentname = \"JohnsonB\"\n",
    "\n",
    "# addressing the 3rd, 4th and 5th characters individually\n",
    "print(\"index 2, 3 & 4 of student_name:\", studentname[2] + studentname[3] + studentname[4])"
   ]
  },
  {
   "cell_type": "code",
   "execution_count": null,
   "metadata": {
    "collapsed": false
   },
   "outputs": [],
   "source": [
    "# [ ] review and run example\n",
    "longword = 'Procrastinate'\n",
    "print(longword[2:11])\n",
    "print(longword[2:11], \"is the 3rd char through the 11th char\")\n",
    "print(longword[2:11], \"is the index 2, \\\"\" + longword[2] + \"\\\",\", \"through index 10, \\\"\" + longword[10] + \"\\\"\")"
   ]
  },
  {
   "attachments": {},
   "cell_type": "markdown",
   "metadata": {
    "collapsed": true
   },
   "source": [
    "# &nbsp;\n",
    "<font size=\"6\" color=\"#B24C00\"  face=\"verdana\"> <B>Task 1</B></font>\n",
    "## slice a string\n",
    "### start & stop index"
   ]
  },
  {
   "cell_type": "code",
   "execution_count": null,
   "metadata": {
    "collapsed": false
   },
   "outputs": [],
   "source": [
    "# [ ] slice longword to print \"act\" and to print \"tic\"\n",
    "longword = \"characteristics\"\n"
   ]
  },
  {
   "cell_type": "code",
   "execution_count": null,
   "metadata": {
    "collapsed": false
   },
   "outputs": [],
   "source": [
    "# [ ] slice longword to print \"sequence\"\n",
    "longword = \"Consequences\"\n"
   ]
  },
  {
   "attachments": {},
   "cell_type": "markdown",
   "metadata": {},
   "source": [
    "# &nbsp;\n",
    "<font size=\"6\" color=\"#00A0B2\"  face=\"verdana\"> <B>Concepts</B></font>\n",
    "## Accessing beginning of sub-strings\n",
    "### Index Slicing [:stop]\n",
    "String slicing returns a string section from index 0 by addressing only the stop index\n",
    "```python\n",
    "studentname = \"JohnsonB\"\n",
    "# addressing the 1st, 2nd & 3rd characters\n",
    "studentname[:3]\n",
    "```\n",
    "**default start for a slice is index 0**"
   ]
  },
  {
   "cell_type": "markdown",
   "metadata": {},
   "source": [
    "### &nbsp;\n",
    "<font size=\"6\" color=\"#00A0B2\"  face=\"verdana\"> <B>Example</B></font>"
   ]
  },
  {
   "cell_type": "code",
   "execution_count": 1,
   "metadata": {
    "collapsed": false
   },
   "outputs": [
    {
     "name": "stdout",
     "output_type": "stream",
     "text": [
      "Joh\n"
     ]
    }
   ],
   "source": [
    "# [ ] review and run example\n",
    "studentname = \"JohnsonB\"\n",
    "# addressing the 1st, 2nd & 3rd characters\n",
    "print(studentname[:3])"
   ]
  },
  {
   "attachments": {},
   "cell_type": "markdown",
   "metadata": {
    "collapsed": true
   },
   "source": [
    "# &nbsp;\n",
    "<font size=\"6\" color=\"#B24C00\"  face=\"verdana\"> <B>Task 2</B></font>"
   ]
  },
  {
   "cell_type": "code",
   "execution_count": 2,
   "metadata": {
    "collapsed": false
   },
   "outputs": [
    {
     "name": "stdout",
     "output_type": "stream",
     "text": [
      "Procras\n"
     ]
    }
   ],
   "source": [
    "# [ ] print the first half of the longword\n",
    "longword = \"Procrastinate\"\n",
    "print(longword[:7])"
   ]
  },
  {
   "attachments": {},
   "cell_type": "markdown",
   "metadata": {},
   "source": [
    "# &nbsp;\n",
    "<font size=\"6\" color=\"#00A0B2\"  face=\"verdana\"> <B>Concepts</B></font>\n",
    "## Accessing ending of sub-strings\n",
    "### Index Slicing [start:]\n",
    "String slicing returns a string section including by addressing only the start index\n",
    "```python\n",
    "studentname = \"JohnsonB\"\n",
    "# addressing the 4th, 5th and 6th characters\n",
    "studentname[3:]\n",
    "```\n",
    "**default end index returns up to and including the last string character**"
   ]
  },
  {
   "cell_type": "markdown",
   "metadata": {},
   "source": [
    "### &nbsp;\n",
    "<font size=\"6\" color=\"#00A0B2\"  face=\"verdana\"> <B>Example</B></font>"
   ]
  },
  {
   "cell_type": "code",
   "execution_count": null,
   "metadata": {
    "collapsed": false
   },
   "outputs": [],
   "source": [
    "# [ ] review and run example\n",
    "studentname = \"JohnsonB\"\n",
    "#  4th, 5th, 6th and 7th characters\n",
    "studentname[3:]"
   ]
  },
  {
   "attachments": {},
   "cell_type": "markdown",
   "metadata": {
    "collapsed": true
   },
   "source": [
    "# &nbsp;\n",
    "<font size=\"6\" color=\"#B24C00\"  face=\"verdana\"> <B>Task 3</B></font>"
   ]
  },
  {
   "cell_type": "code",
   "execution_count": 3,
   "metadata": {
    "collapsed": false
   },
   "outputs": [
    {
     "name": "stdout",
     "output_type": "stream",
     "text": [
      "stinate\n"
     ]
    }
   ],
   "source": [
    "# [ ] print the second half of the longword\n",
    "longword = \"Procrastinate\"\n",
    "print(longword[6:])"
   ]
  },
  {
   "attachments": {},
   "cell_type": "markdown",
   "metadata": {},
   "source": [
    "# &nbsp;\n",
    "<font size=\"6\" color=\"#00A0B2\"  face=\"verdana\"> <B>Concepts</B></font>\n",
    "## accessing sub-strings by step size\n",
    "### Index Slicing [:], [::2]\n",
    "- **[:]** returns the entire string\n",
    "- **[::2]** returns the first char and then steps to every other char in the string\n",
    "- **[1::3]** returns the second char and then steps to every third char in the string  \n",
    "the number **2**, in the print statement below, represents the **step** \n",
    "```python\n",
    "print(longword[::2])\n",
    "```"
   ]
  },
  {
   "cell_type": "markdown",
   "metadata": {},
   "source": [
    "### &nbsp;\n",
    "<font size=\"6\" color=\"#00A0B2\"  face=\"verdana\"> <B>Examples</B></font>"
   ]
  },
  {
   "cell_type": "code",
   "execution_count": null,
   "metadata": {
    "collapsed": false
   },
   "outputs": [],
   "source": [
    "# [ ] review and run example\n",
    "studentname = \"JohnsonB\"\n",
    "# return all\n",
    "print(studentname[:])"
   ]
  },
  {
   "cell_type": "code",
   "execution_count": null,
   "metadata": {
    "collapsed": false
   },
   "outputs": [],
   "source": [
    "# [ ] review and run example\n",
    "studentname = \"JohnsonB\"\n",
    "# return every other\n",
    "print(studentname[::2])"
   ]
  },
  {
   "cell_type": "code",
   "execution_count": null,
   "metadata": {
    "collapsed": false
   },
   "outputs": [],
   "source": [
    "# [ ] review and run example\n",
    "studentname = \"JohnsonB\"\n",
    "# return every third, starting at 2nd character\n",
    "print(studentname[1::2])"
   ]
  },
  {
   "cell_type": "code",
   "execution_count": null,
   "metadata": {
    "collapsed": false
   },
   "outputs": [],
   "source": [
    "# [ ] review and run example\n",
    "longword = \"Procrastinate\"\n",
    "# starting at 2nd char (index 1) to 9th character, return every other character\n",
    "print(longword[1:9:2])"
   ]
  },
  {
   "attachments": {},
   "cell_type": "markdown",
   "metadata": {
    "collapsed": true
   },
   "source": [
    "# &nbsp;\n",
    "<font size=\"6\" color=\"#B24C00\"  face=\"verdana\"> <B>Task 4</B></font>"
   ]
  },
  {
   "cell_type": "code",
   "execution_count": null,
   "metadata": {
    "collapsed": false
   },
   "outputs": [],
   "source": [
    "# [ ] print the 1st and every 3rd letter of longword\n",
    "longword = \"Procrastinate\"\n",
    "\n"
   ]
  },
  {
   "cell_type": "code",
   "execution_count": null,
   "metadata": {
    "collapsed": false
   },
   "outputs": [],
   "source": [
    "# [ ] print every other character of longword starting at the 3rd character\n",
    "longword = \"Procrastinate\"\n",
    "print(longword[2::2])"
   ]
  },
  {
   "attachments": {},
   "cell_type": "markdown",
   "metadata": {},
   "source": [
    "<font size=\"6\" color=\"#00A0B2\"  face=\"verdana\"> <B>Concepts</B></font>\n",
    "## Accessing sub-strings  continued\n",
    "### stepping backwards\n",
    "```python\n",
    "print(longword[::-1])\n",
    "```\n",
    "use **[::-1]** to reverse a string  "
   ]
  },
  {
   "cell_type": "markdown",
   "metadata": {},
   "source": [
    "### &nbsp;\n",
    "<font size=\"6\" color=\"#00A0B2\"  face=\"verdana\"> <B>Example</B></font>"
   ]
  },
  {
   "cell_type": "code",
   "execution_count": null,
   "metadata": {
    "collapsed": false,
    "scrolled": true
   },
   "outputs": [],
   "source": [
    "# [ ] review and run example of stepping backwards using [::-1]\n",
    "longword = \"characteristics\"\n",
    "# make the step increment -1 to step backwards\n",
    "print(longword[::-1])"
   ]
  },
  {
   "cell_type": "code",
   "execution_count": null,
   "metadata": {
    "collapsed": false
   },
   "outputs": [],
   "source": [
    "# [ ] review and run example of stepping backwards using [6::-1]\n",
    "longword = \"characteristics\"\n",
    "# start at the 7th letter backwards to start\n",
    "print(longword[6::-1])"
   ]
  },
  {
   "cell_type": "markdown",
   "metadata": {
    "collapsed": true
   },
   "source": [
    "# &nbsp;\n",
    "<font size=\"6\" color=\"#B24C00\"  face=\"verdana\"> <B>Task 5</B></font>  \n",
    "use slicing"
   ]
  },
  {
   "cell_type": "code",
   "execution_count": null,
   "metadata": {
    "collapsed": false
   },
   "outputs": [],
   "source": [
    "# [ ] reverse longword\n",
    "longword = \"stressed\"\n"
   ]
  },
  {
   "cell_type": "code",
   "execution_count": null,
   "metadata": {
    "collapsed": false
   },
   "outputs": [],
   "source": [
    "# [ ] print the first 5 letters of longword in reverse\n",
    "longword = \"characteristics\"\n"
   ]
  },
  {
   "cell_type": "markdown",
   "metadata": {
    "collapsed": true
   },
   "source": [
    "# &nbsp;\n",
    "<font size=\"6\" color=\"#B24C00\"  face=\"verdana\"> <B>Task 6</B></font>  \n",
    "use slicing"
   ]
  },
  {
   "cell_type": "code",
   "execution_count": null,
   "metadata": {
    "collapsed": false
   },
   "outputs": [],
   "source": [
    "# [ ] print the first 4 letters of longword\n",
    "# [ ] print the first 4 letters of longword in reverse\n",
    "# [ ] print the last 4 letters of longword in reverse\n",
    "# [ ] print the letters spanning indexes 3 to 6 of longword in Reverse\n",
    "longword = \"timeline\"\n"
   ]
  }
 ],
 "metadata": {
  "anaconda-cloud": {},
  "kernelspec": {
   "display_name": "Python 3",
   "language": "python",
   "name": "python3"
  },
  "language_info": {
   "codemirror_mode": {
    "name": "ipython",
    "version": 3
   },
   "file_extension": ".py",
   "mimetype": "text/x-python",
   "name": "python",
   "nbconvert_exporter": "python",
   "pygments_lexer": "ipython3",
   "version": "3.11.2"
  }
 },
 "nbformat": 4,
 "nbformat_minor": 1
}
