{
 "cells": [
  {
   "attachments": {},
   "cell_type": "markdown",
   "metadata": {},
   "source": [
    "# MODULE 6.3\n",
    "## Lists \n",
    "- List Creation\n",
    "- List Access\n",
    "- List Append\n",
    "- **List *modify* and Insert**\n",
    "- List Delete\n",
    "-----\n",
    "><font size=\"5\" color=\"#00A0B2\"  face=\"verdana\"> <B>Student will be able to</B></font>  \n",
    "- Create Lists\n",
    "- Access items in a list\n",
    "- Add Items to the end of a list\n",
    "- **Modify and insert items into a list**\n",
    "- Delete items from a list"
   ]
  },
  {
   "attachments": {},
   "cell_type": "markdown",
   "metadata": {},
   "source": [
    "# &nbsp;\n",
    "<font size=\"6\" color=\"#00A0B2\"  face=\"verdana\"> <B>Concepts</B></font>\n",
    "## Insert a new value for an index\n",
    "### overwrite a specific index in a list\n",
    "\n",
    "wantlist[2] = \"Goldbars\"\n",
    "\n",
    "- **Overwrites** existing index\n",
    "- **Cannot** use to **Append** a new index to the list"
   ]
  },
  {
   "cell_type": "markdown",
   "metadata": {},
   "source": [
    "# &nbsp;\n",
    "<font size=\"6\" color=\"#00A0B2\"  face=\"verdana\"> <B>Examples</B></font>"
   ]
  },
  {
   "cell_type": "code",
   "execution_count": null,
   "metadata": {},
   "outputs": [],
   "source": [
    "# [ ] review and run example\n",
    "# the list before Insert\n",
    "wantlist = [\"Money\", \"LuxCondo\", \"Ladies\"]\n",
    "print(\"wantlist before: \", wantlist)\n",
    "\n",
    "# the list after Insert\n",
    "wantlist[1] = \"Porsche\"\n",
    "print(\"wantlist after:  \", wantlist)"
   ]
  },
  {
   "cell_type": "code",
   "execution_count": null,
   "metadata": {},
   "outputs": [],
   "source": [
    "# [ ] review and run example\n",
    "wantlist = [\"Money\", \"LuxCondo\", \"Ladies\"]\n",
    "print(\"before:\",wantlist)\n",
    "\n",
    "# modify index value\n",
    "wantlist[1] = wantlist[1] + \" Diamonds\"\n",
    "print(\"\\nafter:\", wantlist)"
   ]
  },
  {
   "cell_type": "markdown",
   "metadata": {},
   "source": [
    "<font size=\"3\" color=\"#00A0B2\"  face=\"verdana\"> <B>Example</B></font>  \n",
    "**IndexError**  "
   ]
  },
  {
   "cell_type": "code",
   "execution_count": null,
   "metadata": {},
   "outputs": [],
   "source": [
    "# IndexError Example\n",
    "# [ ] review and run example which results in an IndexError\n",
    "# if result is NameError run cell above before running this cell\n",
    "\n",
    "# IndexError trying to append to end of list\n",
    "wantlist[3] = \"shitloadsofcash\"\n",
    "print(wantlist)"
   ]
  },
  {
   "cell_type": "code",
   "execution_count": null,
   "metadata": {},
   "outputs": [],
   "source": [
    "# [ ] review and run example changes the data type of an element\n",
    "# replace a string with a number (int)\n",
    "sdigits = [\"zero\", \"one\", \"two\", \"three\", \"four\", \"five\", \"six\", \"seven\", \"eight\", \"nine\"] \n",
    "print(\"sdigits: \", sdigits)\n",
    "print(\"sdigits[3]: \", sdigits[3], type(sdigits[3]),\"\\n\")\n",
    "\n",
    "# replace string with an int\n",
    "sdigits[3] = 3\n",
    "print(\"sdigits: \", sdigits)\n",
    "print(\"sdigits[3]: \", sdigits[3], type(sdigits[3]))"
   ]
  },
  {
   "attachments": {},
   "cell_type": "markdown",
   "metadata": {
    "collapsed": true
   },
   "source": [
    "# &nbsp;\n",
    "<font size=\"6\" color=\"#B24C00\"  face=\"verdana\"> <B>Task 1</B></font>\n",
    "\n",
    "## replace items in a list\n",
    "- create a list, **`tnum`**, containing 3 single digit integers\n",
    "- print tnum\n",
    "- check if index 0 value is < 5\n",
    "  - if < 5 , replace index 0 with a string: \"small\"\n",
    "  - else, replace index 0 with a string: \"large\"\n",
    "- print tnum"
   ]
  },
  {
   "cell_type": "code",
   "execution_count": null,
   "metadata": {},
   "outputs": [],
   "source": [
    "# [ ] complete \"replace items in a list\" task\n"
   ]
  },
  {
   "attachments": {},
   "cell_type": "markdown",
   "metadata": {},
   "source": [
    "## Function Challenge: create replacement function\n",
    "- Create a function, **sreplace**, that takes 2 arguments: intlist and index \n",
    "  - intlist is a list of single digit integers\n",
    "  - index is the index that will be checked - such as with intlist[index]\n",
    "- Function replicates purpose of task \"replace items in a list\" above and replaces an integer with a string \"small\" or \"large\"\n",
    "- return intlist\n",
    "\n",
    "Test the function!"
   ]
  },
  {
   "cell_type": "code",
   "execution_count": null,
   "metadata": {},
   "outputs": [],
   "source": [
    "# [ ]  create challenge function\n"
   ]
  },
  {
   "attachments": {},
   "cell_type": "markdown",
   "metadata": {
    "collapsed": true
   },
   "source": [
    "# &nbsp;\n",
    "<font size=\"6\" color=\"#B24C00\"  face=\"verdana\"> <B>Task 2</B></font>\n",
    "\n",
    "## modify items in a list\n",
    "- create a list, **`twords`**, containing 3 different capitalised word stings\n",
    "- print twords\n",
    "- modify the first item in twords to uppercase\n",
    "- modify the third item to swapcase\n",
    "- print twords"
   ]
  },
  {
   "cell_type": "code",
   "execution_count": null,
   "metadata": {},
   "outputs": [],
   "source": [
    "# [ ] complete coding task described above\n"
   ]
  },
  {
   "attachments": {},
   "cell_type": "markdown",
   "metadata": {},
   "source": [
    "# &nbsp;\n",
    "<font size=\"6\" color=\"#00A0B2\"  face=\"verdana\"> <B>Concepts</B></font>\n",
    "## Insert items into a list\n",
    "### use `.insert()` to define an index to insert an item\n",
    "\n",
    "wantlist.insert(2,\"Ferrari\")\n",
    "\n",
    "- Inserts, **doesn't overwrite**\n",
    "- **Increases index by 1**, at and above the insertion point\n",
    "- **Can** use to **Append** a new index to the end of the list"
   ]
  },
  {
   "cell_type": "markdown",
   "metadata": {},
   "source": [
    "# &nbsp;\n",
    "<font size=\"6\" color=\"#00A0B2\"  face=\"verdana\"> <B>Examples</B></font>"
   ]
  },
  {
   "cell_type": "code",
   "execution_count": null,
   "metadata": {},
   "outputs": [],
   "source": [
    "# [ ] review and run example\n",
    "# the list before Insert\n",
    "wantlist = [\"Money\", \"LuxCondo\", \"Ladies\"]\n",
    "print(\"wantlist before: \", wantlist)\n",
    "print(\"index 1 is\", wantlist[1], \"\\nindex 2 is\", wantlist[2], \"\\n\")\n",
    "\n",
    "# the list after Insert\n",
    "wantlist.insert(1,\"Yacht\")\n",
    "print(\"wantlist after:  \", wantlist)\n",
    "print(\"index 1 is\", wantlist[1], \"\\nindex 2 is\", wantlist[2], \"\\nindex 3 is\", wantlist[3])"
   ]
  },
  {
   "attachments": {},
   "cell_type": "markdown",
   "metadata": {
    "collapsed": true
   },
   "source": [
    "# &nbsp;\n",
    "<font size=\"6\" color=\"#B24C00\"  face=\"verdana\"> <B>Task 3</B></font>  \n",
    "## `insert()` input into a list"
   ]
  },
  {
   "cell_type": "code",
   "execution_count": null,
   "metadata": {},
   "outputs": [],
   "source": [
    "# [ ] insert a name from user input into the party_list in the second position (index 1)\n",
    "wantlist = [\"Money\", \"LuxCondo\", \"Ladies\"]\n",
    "\n",
    "# [ ] print the updated list\n"
   ]
  },
  {
   "attachments": {},
   "cell_type": "markdown",
   "metadata": {},
   "source": [
    "# &nbsp;\n",
    "<font size=\"6\" color=\"#B24C00\"  face=\"verdana\"> <B>Task 4</B></font>\n",
    "## Fix The Error"
   ]
  },
  {
   "cell_type": "code",
   "execution_count": null,
   "metadata": {},
   "outputs": [],
   "source": [
    "# [ ] Fix the Error\n",
    "tree = \"oak\"\n",
    "print(\"List before =\", tree)\n",
    "tree.insert(1,\"pine\")\n",
    "print(\"List now =\", tree)"
   ]
  }
 ],
 "metadata": {
  "anaconda-cloud": {},
  "kernelspec": {
   "display_name": "Python 3",
   "language": "python",
   "name": "python3"
  },
  "language_info": {
   "codemirror_mode": {
    "name": "ipython",
    "version": 3
   },
   "file_extension": ".py",
   "mimetype": "text/x-python",
   "name": "python",
   "nbconvert_exporter": "python",
   "pygments_lexer": "ipython3",
   "version": "3.5.1"
  }
 },
 "nbformat": 4,
 "nbformat_minor": 1
}
