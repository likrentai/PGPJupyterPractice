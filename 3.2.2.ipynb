{
 "cells": [
  {
   "attachments": {},
   "cell_type": "markdown",
   "metadata": {},
   "source": [
    "# MODULE 3.2.2  \n",
    "## conditionals, type, and mathematics extended\n",
    "- conditionals: `elif`  \n",
    "- casting   \n",
    "- **basic math operators**  \n",
    "\n",
    "-----\n",
    "\n",
    "><font size=\"5\" color=\"#00A0B2\"  face=\"verdana\"> <B>Student will be able to</B></font>\n",
    "- code more than two choices using `elif`  \n",
    "- gather numeric input using type casting   \n",
    "- **perform subtraction, multiplication and division operations in code** \n"
   ]
  },
  {
   "attachments": {},
   "cell_type": "markdown",
   "metadata": {
    "collapsed": true
   },
   "source": [
    "# &nbsp;\n",
    "<font size=\"6\" color=\"#00A0B2\"  face=\"verdana\"> <B>Concepts</B></font>\n",
    "## Math basic operators\n",
    "### `+` addition\n",
    "### `-` subtraction\n",
    "### `*` multiplication\n",
    "### `/` division"
   ]
  },
  {
   "cell_type": "markdown",
   "metadata": {
    "collapsed": true
   },
   "source": [
    "# &nbsp;\n",
    "<font size=\"6\" color=\"#00A0B2\"  face=\"verdana\"> <B>Examples</B></font>"
   ]
  },
  {
   "cell_type": "code",
   "execution_count": null,
   "metadata": {
    "collapsed": false
   },
   "outputs": [],
   "source": [
    "# [ ] review and run example\n",
    "print(\"3 + 5 =\",3 + 5)\n",
    "print(\"3 + 5 - 9 =\", 3 + 5 - 9)\n",
    "print(\"48/9 =\", 48/9)\n",
    "print(\"5*5 =\", 5*5)\n",
    "print(\"(14 - 8)*(19/4) =\", (14 - 8)*(19/4))"
   ]
  },
  {
   "cell_type": "code",
   "execution_count": null,
   "metadata": {
    "collapsed": false
   },
   "outputs": [],
   "source": [
    "# [ ] review and run example - 'million'\n",
    "def million():\n",
    "    big = input(\"Enter a non-decimal number to mulitply by a million: \")\n",
    "    return int(big)*1000000\n",
    "\n",
    "print(\"Result: \", million())\n"
   ]
  },
  {
   "cell_type": "markdown",
   "metadata": {},
   "source": [
    "# &nbsp;\n",
    "<font size=\"6\" color=\"#B24C00\"  face=\"verdana\"> <B>Task 1</B></font>\n",
    "## use math operators to solve the set of tasks below"
   ]
  },
  {
   "cell_type": "code",
   "execution_count": null,
   "metadata": {
    "collapsed": false
   },
   "outputs": [],
   "source": [
    "# [ ] print the result of subtracting 15 from 43\n",
    "\n"
   ]
  },
  {
   "cell_type": "code",
   "execution_count": null,
   "metadata": {
    "collapsed": false
   },
   "outputs": [],
   "source": [
    "# [ ] print the result of multiplying 15 and 43\n",
    "\n"
   ]
  },
  {
   "cell_type": "code",
   "execution_count": null,
   "metadata": {
    "collapsed": false
   },
   "outputs": [],
   "source": [
    "# [ ] print the result of dividing 156 by 12\n",
    "\n"
   ]
  },
  {
   "cell_type": "code",
   "execution_count": null,
   "metadata": {
    "collapsed": false
   },
   "outputs": [],
   "source": [
    "# [ ] print the result of dividing 21 by 0.5\n",
    "\n"
   ]
  },
  {
   "cell_type": "code",
   "execution_count": null,
   "metadata": {
    "collapsed": false
   },
   "outputs": [],
   "source": [
    "# [ ] print the result of adding 111 plus 84 and then subtracting 45\n",
    "\n"
   ]
  },
  {
   "cell_type": "code",
   "execution_count": null,
   "metadata": {
    "collapsed": false
   },
   "outputs": [],
   "source": [
    "# [ ] print the result of adding 21 and 4 and then multiplying that sum by 4\n",
    "\n"
   ]
  },
  {
   "cell_type": "markdown",
   "metadata": {
    "collapsed": true
   },
   "source": [
    "# &nbsp;\n",
    "<font size=\"6\" color=\"#B24C00\"  face=\"verdana\"> <B>Task 2</B></font>\n",
    "## Program: Multiplying Calculator Function\n",
    "- define function **`multiply()`**, and within the function:\n",
    "  - gets user input() of 2 *strings* made of whole numbers\n",
    "  - cast the input to **`int()`**\n",
    "  - multiply the integers and **return** the equation with result as a **`str()`**\n",
    "    - **return** example \n",
    "     ```python\n",
    "     9 * 13 = 117\n",
    "     ```"
   ]
  },
  {
   "cell_type": "code",
   "execution_count": null,
   "metadata": {
    "collapsed": false
   },
   "outputs": [],
   "source": [
    "# [ ] create and test multiply() function\n",
    "\n"
   ]
  },
  {
   "cell_type": "markdown",
   "metadata": {
    "collapsed": true
   },
   "source": [
    "# &nbsp;\n",
    "<font size=\"6\" color=\"#B24C00\"  face=\"verdana\"> <B>Task 3</B></font>\n",
    "## Project: Improved Multiplying Calculator Function\n",
    "### putting together conditionals, input casting and math\n",
    "- #### update the multiply() function to multiply or divide \n",
    "  - single parameter is **`operator`** with arguments of **`*`** or **`/`** operator\n",
    "  - default operator is \"*\" (multiply)\n",
    "  - **return** the result of multiplication or division\n",
    "  - if operator other than **`\"*\"`** or **`\"/\"`**  then **` return \"Invalid Operator\"`**"
   ]
  },
  {
   "cell_type": "code",
   "execution_count": null,
   "metadata": {
    "collapsed": false
   },
   "outputs": [],
   "source": [
    "# [ ] create improved multiply() function and test with /, no argument, and an invalid operator ($)\n",
    "\n",
    "\n"
   ]
  },
  {
   "cell_type": "markdown",
   "metadata": {},
   "source": [
    "# &nbsp;\n",
    "<font size=\"6\" color=\"#B24C00\"  face=\"verdana\"> <B>Task 4</B></font>\n",
    "## Fix the Errors"
   ]
  },
  {
   "cell_type": "code",
   "execution_count": null,
   "metadata": {
    "collapsed": false
   },
   "outputs": [],
   "source": [
    "# Review, run, fix \n",
    "name = input(\"Enter only your first name: \").capitalize()\n",
    "if name.startswith(\"A\"):\n",
    "    print(name,\"Congratulations, names starting with 'A' get to go first today!\")\n",
    "elif name.startswith(\"B\")\n",
    "    print(name,\"Congratulations, names starting with 'B' get to go second today!\")\n",
    "else:\n",
    "    print(name, \"please wait for others with names staring with 'A' and 'B' to go first today.\")\n"
   ]
  }
 ],
 "metadata": {
  "anaconda-cloud": {},
  "kernelspec": {
   "display_name": "likren",
   "language": "python",
   "name": "python3"
  },
  "language_info": {
   "codemirror_mode": {
    "name": "ipython",
    "version": 3
   },
   "file_extension": ".py",
   "mimetype": "text/x-python",
   "name": "python",
   "nbconvert_exporter": "python",
   "pygments_lexer": "ipython3",
   "version": "3.11.2"
  },
  "vscode": {
   "interpreter": {
    "hash": "846203d4651bf7a722e86e2ab20774f6b89d97d393d30d02c0bd1535b0763a95"
   }
  }
 },
 "nbformat": 4,
 "nbformat_minor": 1
}
