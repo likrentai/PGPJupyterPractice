{
 "cells": [
  {
   "attachments": {},
   "cell_type": "markdown",
   "metadata": {
    "collapsed": true
   },
   "source": [
    "# MODULE 1.2.4\n",
    "## Strings: input, testing, formatting\n",
    "- input() - gathering user input  \n",
    "- print() formatting   \n",
    "- Quotes inside strings \n",
    "- Boolean string tests methods   \n",
    "- **String formatting methods**  \n",
    "- **Formatting string input()**  \n",
    "- **Boolean `in` keyword**  \n",
    "\n",
    "-----\n",
    "\n",
    "><font size=\"5\" color=\"#00A0B2\"  face=\"verdana\"> <B>Student will be able to</B></font>\n",
    "- gather, store and use string `input()`  \n",
    "- format `print()` output  \n",
    "- test string characteristics  \n",
    "- **format string output**  \n",
    "- **search for a string in a string**  "
   ]
  },
  {
   "attachments": {},
   "cell_type": "markdown",
   "metadata": {
    "collapsed": true
   },
   "source": [
    "# &nbsp;\n",
    "<font size=\"6\" color=\"#00A0B2\"  face=\"verdana\"> <B>Concepts</B></font>  \n",
    "## String formatting methods\n",
    "the following methods are applied to string objects\n",
    "- **.capitalize()** - capitalizes the first character of a string\n",
    "- **.lower()** - all characters of a string are made lowercase\n",
    "- **.upper()** - all characters of a string are made uppercase\n",
    "- **.swapcase()** - all characters of a string are made to switch case upper becomes lower and vice versa  \n",
    "- **.title()** - each 'word' separated by a space is capitalized"
   ]
  },
  {
   "cell_type": "markdown",
   "metadata": {},
   "source": [
    "# &nbsp;\n",
    "<font size=\"6\" color=\"#00A0B2\"  face=\"verdana\"> <B>Examples</B></font>  \n",
    "### String Formatting Methods"
   ]
  },
  {
   "cell_type": "code",
   "execution_count": null,
   "metadata": {
    "collapsed": false
   },
   "outputs": [],
   "source": [
    "print(\"Prof. Royo is in his office.\".capitalize())"
   ]
  },
  {
   "cell_type": "code",
   "execution_count": null,
   "metadata": {
    "collapsed": false
   },
   "outputs": [],
   "source": [
    "fav_color = \"blackpink\"\n",
    "print(fav_color.capitalize(), fav_color, fav_color,\"and\", fav_color.upper()+\"!\")"
   ]
  },
  {
   "cell_type": "markdown",
   "metadata": {},
   "source": [
    "# &nbsp;\n",
    "<font size=\"6\" color=\"#B24C00\"  face=\"verdana\"> <B>Task 1: multi-part</B></font> \n",
    "### [ ] format with `.capitalize(), .lower(), .upper(), .swapcase()`\n",
    "> **Note:** use **print()**"
   ]
  },
  {
   "cell_type": "code",
   "execution_count": null,
   "metadata": {
    "collapsed": false
   },
   "outputs": [],
   "source": [
    "# [ ] get input for a variable, fav_food, that describes a favorite food\n",
    "\n",
    "# [ ] display fav_food as ALL CAPS, used in a sentence\n",
    "\n",
    "\n",
    "# [ ] dispaly fav_food as all lower case, used in a sentence\n",
    "\n",
    "\n",
    "# [] display fav_food with swapped case, used in a sentence\n",
    "\n",
    "\n",
    "# [] display fav_food with capitalization, used in a sentence\n",
    "\n",
    "\n",
    "\n"
   ]
  },
  {
   "cell_type": "code",
   "execution_count": null,
   "metadata": {
    "collapsed": false
   },
   "outputs": [],
   "source": [
    "fav_color = \"Forest Green\"\n",
    "# [] display the fav_color variable as upper, lower, swapcase, and capitalize formatting in a single print() statement\n",
    "\n"
   ]
  },
  {
   "attachments": {},
   "cell_type": "markdown",
   "metadata": {
    "collapsed": true
   },
   "source": [
    "# &nbsp;\n",
    "<font size=\"6\" color=\"#00A0B2\"  face=\"verdana\"> <B>Concepts</B></font>\n",
    "## Formatting string input()\n",
    "When storing input, sometimes a specific format is needed and formatting is applied to the **`input()`** function\n",
    "> **Note:** this technique overwrites the original user input in the variable with the formatted value "
   ]
  },
  {
   "cell_type": "markdown",
   "metadata": {
    "collapsed": true
   },
   "source": [
    "<font size=\"4\" color=\"#00A0B2\"  face=\"verdana\"> <B>Example</B></font>"
   ]
  },
  {
   "cell_type": "code",
   "execution_count": null,
   "metadata": {
    "collapsed": false
   },
   "outputs": [],
   "source": [
    "# review and run code - test a capitalized color input\n",
    "fav_color = input('What is your favorite color?: ').lower()\n",
    "print(fav_color)"
   ]
  },
  {
   "cell_type": "markdown",
   "metadata": {},
   "source": [
    "# &nbsp;\n",
    "<font size=\"6\" color=\"#B24C00\"  face=\"verdana\"> <B>Task 2</B></font>  \n",
    "### [ ] format &nbsp; ` input()` with ` .upper()`"
   ]
  },
  {
   "cell_type": "code",
   "execution_count": null,
   "metadata": {
    "collapsed": false
   },
   "outputs": [],
   "source": [
    "# [] input variable fav_color as upper\n",
    "\n",
    "# [] print fav_color\n",
    "\n",
    "\n"
   ]
  },
  {
   "attachments": {},
   "cell_type": "markdown",
   "metadata": {
    "collapsed": true
   },
   "source": [
    "# &nbsp;\n",
    "<font size=\"6\" color=\"#00A0B2\"  face=\"verdana\"> <B>Concepts</B></font>  \n",
    "## Boolean `in` keyword\n",
    "The **`in`** keyword can be used as a simple search returning **`True`** or **`False`** indication if a string is included in a target sequence.  \n",
    "### comparing strings is case sensitive\n",
    "`'Hello'` is not the same as `'hello'`  "
   ]
  },
  {
   "cell_type": "markdown",
   "metadata": {},
   "source": [
    "<font size=\"6\" color=\"#00A0B2\"  face=\"verdana\"> <B>Examples</B></font>"
   ]
  },
  {
   "cell_type": "code",
   "execution_count": null,
   "metadata": {
    "collapsed": false,
    "scrolled": true
   },
   "outputs": [],
   "source": [
    "# review and run code to test if a string is to be found in another string\n",
    "menu = \"salad, pasta, sandwich, pizza, drinks, dessert\"\n",
    "print('pizza' in menu)"
   ]
  },
  {
   "cell_type": "code",
   "execution_count": null,
   "metadata": {
    "collapsed": true
   },
   "outputs": [],
   "source": [
    "# review and run code to test case sensitive examples \n",
    "greeting = \"Hello World!\"\n",
    "print(\"'hello' in greeting = \",'hello' in greeting)\n",
    "print(\"'Hello' in greeting = \", 'Hello' in greeting)"
   ]
  },
  {
   "cell_type": "markdown",
   "metadata": {},
   "source": [
    "example below: **remove case sensitivity from a string comparison**"
   ]
  },
  {
   "cell_type": "code",
   "execution_count": null,
   "metadata": {
    "collapsed": true
   },
   "outputs": [],
   "source": [
    "# review and run code to test removing case sensitivity from a string comparison\n",
    "greeting = \"Hello World!\"\n",
    "print(\"'hello' in greeting = \",'hello' in greeting)\n",
    "print(\"'Hello' in greeting = \", 'Hello' in greeting)\n",
    "print(\"'hello' in greeting if lower used = \", 'hello'.lower() in greeting.lower())"
   ]
  },
  {
   "cell_type": "markdown",
   "metadata": {},
   "source": [
    "# &nbsp;\n",
    "<font size=\"6\" color=\"#B24C00\"  face=\"verdana\"> <B>Task 3: multi-part</B></font>  \n",
    "**[ ] add code below** testing the **`menu`** string variable for `'pizza'`, `'soup'`, and `'dessert'` using keyword &nbsp; **`in`**\n",
    "- print each test on a separate line\n",
    "- print a description for each test &nbsp; (e.g. - \"`Pizza in menu = True`\")"
   ]
  },
  {
   "cell_type": "code",
   "execution_count": null,
   "metadata": {
    "collapsed": false
   },
   "outputs": [],
   "source": [
    "# [] print 3 tests, with description text, testing the menu variable for 'pizza', 'soup' and 'dessert'\n",
    "menu = \"salad, pasta, sandwich, pizza, drinks, dessert\"\n",
    "\n",
    "\n",
    "\n"
   ]
  },
  {
   "cell_type": "markdown",
   "metadata": {},
   "source": [
    "## Program: What is on the menu\n",
    "### [ ] Create a program where a user can check if an item is on the menu\n",
    "- store the user response in a variable menu_ask\n",
    "- use the menu from above and add some additional items\n",
    "- the program should be able to ignore case mismatch so that \"hello\" is found in \"Hello World!\""
   ]
  },
  {
   "cell_type": "code",
   "execution_count": null,
   "metadata": {
    "collapsed": false
   },
   "outputs": [],
   "source": [
    "# Create a program where the user supplies input to search the menu\n",
    "\n",
    "\n"
   ]
  },
  {
   "cell_type": "markdown",
   "metadata": {},
   "source": [
    "### [ ] Challenge: Add to the menu\n",
    "- print the current menu\n",
    "- get user input for add_item variable\n",
    "- new_menu use string addition to add add_item to menu\n",
    "- print the new_menu\n",
    "testing\n",
    "- add a cell below add menu\n",
    "- check if an item is on the menu, check for previous items and the item you added"
   ]
  },
  {
   "cell_type": "code",
   "execution_count": null,
   "metadata": {
    "collapsed": false
   },
   "outputs": [],
   "source": [
    "# add to menu\n",
    "\n"
   ]
  },
  {
   "cell_type": "code",
   "execution_count": null,
   "metadata": {
    "collapsed": false
   },
   "outputs": [],
   "source": [
    "# Testing Add to Menu - create user input to search for an item on the new menu\n",
    "\n"
   ]
  },
  {
   "cell_type": "markdown",
   "metadata": {},
   "source": [
    "# &nbsp;\n",
    "<font size=\"6\" color=\"#B24C00\"  face=\"verdana\"> <B>Task 4</B></font>\n",
    "## Fix The Error"
   ]
  },
  {
   "cell_type": "code",
   "execution_count": null,
   "metadata": {
    "collapsed": false
   },
   "outputs": [],
   "source": [
    "# [ ] fix the error\n",
    "paint_colors = \"red, blue, green, black, orange, pink\"\n",
    "print('Red in paint colors = ',red in paint_colors)\n",
    "\n"
   ]
  }
 ],
 "metadata": {
  "anaconda-cloud": {},
  "kernelspec": {
   "display_name": "base",
   "language": "python",
   "name": "python3"
  },
  "language_info": {
   "codemirror_mode": {
    "name": "ipython",
    "version": 3
   },
   "file_extension": ".py",
   "mimetype": "text/x-python",
   "name": "python",
   "nbconvert_exporter": "python",
   "pygments_lexer": "ipython3",
   "version": "3.9.7"
  },
  "vscode": {
   "interpreter": {
    "hash": "6e9f2c9ff3167658364bd03b17d50958e2a6833a601f9b4cf27fe893b934345d"
   }
  }
 },
 "nbformat": 4,
 "nbformat_minor": 1
}
