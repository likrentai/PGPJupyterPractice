{
 "cells": [
  {
   "attachments": {},
   "cell_type": "markdown",
   "metadata": {},
   "source": [
    "# MODULE 5.4\n",
    "## Sequence: String\n",
    "- Accessing String Character with index\n",
    "- Accessing sub-strings with index slicing\n",
    "- Iterating through Characters of a String\n",
    "- **More String Methods**\n",
    "-----\n",
    "><font size=\"5\" color=\"#00A0B2\"  face=\"verdana\"> <B>Student will be able to</B></font>  \n",
    "- Work with String Characters\n",
    "- Slice strings into substrings\n",
    "- Iterate through String Characters\n",
    "- **Use String ~~Tricks~~ Methods**\n",
    "  - `len()`\n",
    "  - `.count()`\n",
    "  - `.find()`"
   ]
  },
  {
   "attachments": {},
   "cell_type": "markdown",
   "metadata": {},
   "source": [
    "# &nbsp;\n",
    "<font size=\"6\" color=\"#00A0B2\"  face=\"verdana\"> <B>Concepts</B></font>\n",
    "## String Methods: return string information\n",
    "### len()  \n",
    "returns a strings length  \n",
    "### .count()  \n",
    "returns number of times a character or sub-string occur  \n",
    "### .find()   \n",
    "returns index of first character or sub-string match  \n",
    "returns **-1** if no match found  \n",
    "```python\n",
    "tip = \"save your code\"\n",
    "\n",
    "# number of characters\n",
    "len(tip)\n",
    "\n",
    "# letter \"e\" occurrences\n",
    "tip.count(\"e\")\n",
    "\n",
    "# find the index of the first space\n",
    "tip.find(\" \")\n",
    "\n",
    "# find the index of \"u\" searching a slice tip[3:6]\n",
    "tip.find(\"u\",3,6)\n",
    "```\n",
    "These methods **return** information that we can use to sort or manipulate strings"
   ]
  },
  {
   "cell_type": "markdown",
   "metadata": {},
   "source": [
    "# &nbsp;\n",
    "<font size=\"6\" color=\"#00A0B2\"  face=\"verdana\"> <B>Examples</B></font>  \n",
    "run each example cell in order"
   ]
  },
  {
   "cell_type": "code",
   "execution_count": null,
   "metadata": {
    "collapsed": false
   },
   "outputs": [],
   "source": [
    "# [ ] review and run example\n",
    "a = \"save your code\"\n",
    "\n",
    "print(\"number of characters in string\")\n",
    "print(len(a),\"\\n\")\n",
    "\n",
    "print('letter \"e\" occurrences')\n",
    "print(a.count(\"e\"),\"\\n\")\n",
    "\n",
    "print(\"find the index of the first space\")\n",
    "print(a.find(\" \"),\"\\n\")\n",
    "\n",
    "print('find the index of \"u\" searching a slice work_tip[3:9] -', a[3:9])\n",
    "print(a.find(\"u\",3,9),\"\\n\")\n",
    "\n",
    "print('find the index of \"e\" searching a slice work_tip[4:] -', a[4:])\n",
    "print(a.find(\"e\",4))"
   ]
  },
  {
   "cell_type": "markdown",
   "metadata": {},
   "source": [
    "### len()  \n",
    "returns a strings length  "
   ]
  },
  {
   "cell_type": "code",
   "execution_count": null,
   "metadata": {
    "collapsed": false
   },
   "outputs": [],
   "source": [
    "# [ ] review and run example\n",
    "tip = \"good code is commented code\"\n",
    "\n",
    "print(\"The sentence: \\\"\" + tip + \"\\\" has character length = \", len(tip) )"
   ]
  },
  {
   "cell_type": "code",
   "execution_count": null,
   "metadata": {
    "collapsed": false
   },
   "outputs": [],
   "source": [
    "# [ ] review and run example\n",
    "# find the middle index\n",
    "tip = \"good code is commented code\"\n",
    "midpt = int(len(tip)/2)\n",
    "\n",
    "# print 1st half of sentence\n",
    "print(tip[:midpt])\n",
    "\n",
    "# print the 2nd half of sentence\n",
    "print(tip[midpt:])"
   ]
  },
  {
   "attachments": {},
   "cell_type": "markdown",
   "metadata": {},
   "source": [
    "### .count()  \n",
    "returns number of times a character or sub-string occur"
   ]
  },
  {
   "cell_type": "code",
   "execution_count": null,
   "metadata": {
    "collapsed": false
   },
   "outputs": [],
   "source": [
    "# [ ] review and run example\n",
    "print(tip)\n",
    "print(\"how many w's? \", tip.count(\"w\"))\n",
    "print(\"how many o's? \", tip.count(\"o\"))\n",
    "print(\"uses 'code', how many times? \", tip.count(\"code\"))"
   ]
  },
  {
   "cell_type": "code",
   "execution_count": null,
   "metadata": {
    "collapsed": false
   },
   "outputs": [],
   "source": [
    "# [ ] review and run example \n",
    "print(tip[:midpt])\n",
    "print(\"# o's in first half\")\n",
    "print(tip[:midpt].count(\"o\"))\n",
    "\n",
    "print()\n",
    "print(tip[midpt:])\n",
    "print(\"# o's in second half\")\n",
    "print(tip[midpt:].count(\"o\"))"
   ]
  },
  {
   "cell_type": "markdown",
   "metadata": {},
   "source": [
    "### .find(*string*) \n",
    "returns index of first character or sub-string match  \n",
    "returns **-1** if no match found\n",
    "#### .find(*string*, *start index*, *end index*)\n",
    "same as above .find() but searches from optional start and to optional end index"
   ]
  },
  {
   "cell_type": "code",
   "execution_count": null,
   "metadata": {
    "collapsed": false
   },
   "outputs": [],
   "source": [
    "# [ ] review and run example \n",
    "tip = \"good code has meaningful variable names\"\n",
    "print(tip)\n",
    "# index where first instance of \"code\" starts\n",
    "code = tip.find(\"code\")\n",
    "print(code, '= starting index for \"code\"')"
   ]
  },
  {
   "cell_type": "code",
   "execution_count": null,
   "metadata": {
    "collapsed": false
   },
   "outputs": [],
   "source": [
    "# [ ] review and run example \n",
    "# set start index = 13 and end index = 33\n",
    "print('search for \"meaning\" in the sub-string:', tip[13:33],\"\\n\")\n",
    "here = tip.find(\"meaning\",13,33)\n",
    "print('\"meaning\" found in tip[13:33] sub-string search at index', here)"
   ]
  },
  {
   "cell_type": "code",
   "execution_count": null,
   "metadata": {
    "collapsed": false
   },
   "outputs": [],
   "source": [
    "# [ ] review and run example \n",
    "# if .find(\"o\") has No Match, -1 is returned\n",
    "print (\"tip:\" , tip)\n",
    "location = tip.find(\"o\")\n",
    "\n",
    "# keeps looping until location = -1 (no \"o\" found)\n",
    "while location >= 0:\n",
    "    print(\"'o' at index =\", location)\n",
    "    # find(\"o\", location + 1) looks for a \"o\" after index the first \"o\" was found\n",
    "    location = tip.find(\"o\", location + 1)\n",
    "print(\"No more o's\")"
   ]
  },
  {
   "attachments": {},
   "cell_type": "markdown",
   "metadata": {
    "collapsed": true
   },
   "source": [
    "# &nbsp;\n",
    "<font size=\"6\" color=\"#B24C00\"  face=\"verdana\"> <B>Task 1</B></font>\n",
    "## `len()`"
   ]
  },
  {
   "cell_type": "code",
   "execution_count": null,
   "metadata": {
    "collapsed": false
   },
   "outputs": [],
   "source": [
    "# [ ] use len() to find the midpoint of the string \n",
    "# [ ] print the halves on separate lines\n",
    "tip2 = \"wear a hat when it rains\"\n"
   ]
  },
  {
   "attachments": {},
   "cell_type": "markdown",
   "metadata": {},
   "source": [
    "# &nbsp;\n",
    "<font size=\"6\" color=\"#B24C00\"  face=\"verdana\"> <B>Task 2</B></font>\n",
    "## `.count()`"
   ]
  },
  {
   "cell_type": "code",
   "execution_count": null,
   "metadata": {
    "collapsed": false
   },
   "outputs": [],
   "source": [
    "# for letters: \"e\" and \"a\" in tip2\n",
    "# [ ] print letter counts \n",
    "# [ ] BONUS: print which letter is most frequent\n",
    "tip2 = \"wear a hat when it rains\"\n",
    "\n",
    "\n"
   ]
  },
  {
   "cell_type": "markdown",
   "metadata": {
    "collapsed": true
   },
   "source": [
    "# &nbsp;\n",
    "<font size=\"6\" color=\"#B24C00\"  face=\"verdana\"> <B>Task 3</B></font>\n",
    "###  `.find()`"
   ]
  },
  {
   "cell_type": "code",
   "execution_count": null,
   "metadata": {
    "collapsed": false
   },
   "outputs": [],
   "source": [
    "# [ ] print longword from the location of the first and second \"t\"\n",
    "longword = \"juxtaposition\"\n"
   ]
  },
  {
   "attachments": {},
   "cell_type": "markdown",
   "metadata": {
    "collapsed": true
   },
   "source": [
    "# &nbsp;\n",
    "<font size=\"6\" color=\"#B24C00\"  face=\"verdana\"> <B>Task 4</B></font>\n",
    "##  Program: print each word in a quote\n",
    "```python\n",
    "start = 0\n",
    "spaceindex = quote.find(\" \")\n",
    "while spaceindex != -1:\n",
    "    # code to print word (index slice start:spaceindex)"
   ]
  },
  {
   "cell_type": "code",
   "execution_count": null,
   "metadata": {
    "collapsed": false
   },
   "outputs": [],
   "source": [
    "quote = \"they stumble who run fast\"\n"
   ]
  }
 ],
 "metadata": {
  "anaconda-cloud": {},
  "kernelspec": {
   "display_name": "Python 3",
   "language": "python",
   "name": "python3"
  },
  "language_info": {
   "codemirror_mode": {
    "name": "ipython",
    "version": 3
   },
   "file_extension": ".py",
   "mimetype": "text/x-python",
   "name": "python",
   "nbconvert_exporter": "python",
   "pygments_lexer": "ipython3",
   "version": "3.5.1"
  }
 },
 "nbformat": 4,
 "nbformat_minor": 1
}
